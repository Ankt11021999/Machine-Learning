{
 "cells": [
  {
   "cell_type": "code",
   "execution_count": 2,
   "id": "d3a3270e",
   "metadata": {},
   "outputs": [],
   "source": [
    "import pandas as pd\n",
    "import numpy as np\n",
    "import warnings\n",
    "warnings.filterwarnings('ignore')\n",
    "pd.set_option('display.max_rows', 1000)"
   ]
  },
  {
   "cell_type": "markdown",
   "id": "88f22762",
   "metadata": {},
   "source": [
    "***lets start with importing and reading the dataset***"
   ]
  },
  {
   "cell_type": "code",
   "execution_count": 3,
   "id": "eedf7a6b",
   "metadata": {},
   "outputs": [],
   "source": [
    "data = pd.read_csv('C:/Users/ASUS/Downloads/archive (1)/quikr_car.csv')"
   ]
  },
  {
   "cell_type": "code",
   "execution_count": 4,
   "id": "cacce7f0",
   "metadata": {},
   "outputs": [
    {
     "data": {
      "text/html": [
       "<div>\n",
       "<style scoped>\n",
       "    .dataframe tbody tr th:only-of-type {\n",
       "        vertical-align: middle;\n",
       "    }\n",
       "\n",
       "    .dataframe tbody tr th {\n",
       "        vertical-align: top;\n",
       "    }\n",
       "\n",
       "    .dataframe thead th {\n",
       "        text-align: right;\n",
       "    }\n",
       "</style>\n",
       "<table border=\"1\" class=\"dataframe\">\n",
       "  <thead>\n",
       "    <tr style=\"text-align: right;\">\n",
       "      <th></th>\n",
       "      <th>name</th>\n",
       "      <th>company</th>\n",
       "      <th>year</th>\n",
       "      <th>Price</th>\n",
       "      <th>kms_driven</th>\n",
       "      <th>fuel_type</th>\n",
       "    </tr>\n",
       "  </thead>\n",
       "  <tbody>\n",
       "    <tr>\n",
       "      <th>0</th>\n",
       "      <td>Hyundai Santro Xing XO eRLX Euro III</td>\n",
       "      <td>Hyundai</td>\n",
       "      <td>2007</td>\n",
       "      <td>80,000</td>\n",
       "      <td>45,000 kms</td>\n",
       "      <td>Petrol</td>\n",
       "    </tr>\n",
       "    <tr>\n",
       "      <th>1</th>\n",
       "      <td>Mahindra Jeep CL550 MDI</td>\n",
       "      <td>Mahindra</td>\n",
       "      <td>2006</td>\n",
       "      <td>4,25,000</td>\n",
       "      <td>40 kms</td>\n",
       "      <td>Diesel</td>\n",
       "    </tr>\n",
       "    <tr>\n",
       "      <th>2</th>\n",
       "      <td>Maruti Suzuki Alto 800 Vxi</td>\n",
       "      <td>Maruti</td>\n",
       "      <td>2018</td>\n",
       "      <td>Ask For Price</td>\n",
       "      <td>22,000 kms</td>\n",
       "      <td>Petrol</td>\n",
       "    </tr>\n",
       "    <tr>\n",
       "      <th>3</th>\n",
       "      <td>Hyundai Grand i10 Magna 1.2 Kappa VTVT</td>\n",
       "      <td>Hyundai</td>\n",
       "      <td>2014</td>\n",
       "      <td>3,25,000</td>\n",
       "      <td>28,000 kms</td>\n",
       "      <td>Petrol</td>\n",
       "    </tr>\n",
       "    <tr>\n",
       "      <th>4</th>\n",
       "      <td>Ford EcoSport Titanium 1.5L TDCi</td>\n",
       "      <td>Ford</td>\n",
       "      <td>2014</td>\n",
       "      <td>5,75,000</td>\n",
       "      <td>36,000 kms</td>\n",
       "      <td>Diesel</td>\n",
       "    </tr>\n",
       "  </tbody>\n",
       "</table>\n",
       "</div>"
      ],
      "text/plain": [
       "                                     name   company  year          Price  \\\n",
       "0    Hyundai Santro Xing XO eRLX Euro III   Hyundai  2007         80,000   \n",
       "1                 Mahindra Jeep CL550 MDI  Mahindra  2006       4,25,000   \n",
       "2              Maruti Suzuki Alto 800 Vxi    Maruti  2018  Ask For Price   \n",
       "3  Hyundai Grand i10 Magna 1.2 Kappa VTVT   Hyundai  2014       3,25,000   \n",
       "4        Ford EcoSport Titanium 1.5L TDCi      Ford  2014       5,75,000   \n",
       "\n",
       "   kms_driven fuel_type  \n",
       "0  45,000 kms    Petrol  \n",
       "1      40 kms    Diesel  \n",
       "2  22,000 kms    Petrol  \n",
       "3  28,000 kms    Petrol  \n",
       "4  36,000 kms    Diesel  "
      ]
     },
     "execution_count": 4,
     "metadata": {},
     "output_type": "execute_result"
    }
   ],
   "source": [
    "data.head()"
   ]
  },
  {
   "cell_type": "markdown",
   "id": "8dad41f2",
   "metadata": {},
   "source": [
    "# Data Cleaning"
   ]
  },
  {
   "cell_type": "markdown",
   "id": "f0ae9ca3",
   "metadata": {},
   "source": [
    "***Lets check null values first and then start with data cleaning***"
   ]
  },
  {
   "cell_type": "code",
   "execution_count": 5,
   "id": "3dd1b27b",
   "metadata": {},
   "outputs": [
    {
     "data": {
      "text/plain": [
       "name           0\n",
       "company        0\n",
       "year           0\n",
       "Price          0\n",
       "kms_driven    52\n",
       "fuel_type     55\n",
       "dtype: int64"
      ]
     },
     "execution_count": 5,
     "metadata": {},
     "output_type": "execute_result"
    }
   ],
   "source": [
    "data.isnull().sum()"
   ]
  },
  {
   "cell_type": "markdown",
   "id": "721ec672",
   "metadata": {},
   "source": [
    "***Since there are no null values in 'company' column but we will need to check that column explicitly, because its a object datatype column and it could have any bad entry other than actual company name*** "
   ]
  },
  {
   "cell_type": "code",
   "execution_count": 6,
   "id": "9558cedc",
   "metadata": {},
   "outputs": [
    {
     "data": {
      "text/plain": [
       "Index(['i', 'force', 'fiat', 'hindustan', 'used', 'urgent', 'jaguar', 'sale',\n",
       "       'swift', 'all', 'any', 'sell', 'land', 'scratch', '9', '7', 'well',\n",
       "       'urjent', '2012', 'volvo', 'very', 'yamaha', 'jeep', 'selling', 'tara'],\n",
       "      dtype='object')"
      ]
     },
     "execution_count": 6,
     "metadata": {},
     "output_type": "execute_result"
    }
   ],
   "source": [
    "data['company']=data['company'].str.lower()\n",
    "wrong_companies=data['company'].value_counts()[data['company'].value_counts()<5].index\n",
    "wrong_companies"
   ]
  },
  {
   "cell_type": "markdown",
   "id": "17a236bb",
   "metadata": {},
   "source": [
    "***As we can see in comapny column, there are multiple wrong entries, so lets first remove such entries.***"
   ]
  },
  {
   "cell_type": "code",
   "execution_count": 7,
   "id": "f2aae2f2",
   "metadata": {},
   "outputs": [
    {
     "data": {
      "text/plain": [
       "maruti        237\n",
       "hyundai       145\n",
       "mahindra      100\n",
       "tata           78\n",
       "honda          61\n",
       "toyota         39\n",
       "chevrolet      35\n",
       "renault        34\n",
       "ford           31\n",
       "volkswagen     20\n",
       "skoda          13\n",
       "audi           11\n",
       "mini            8\n",
       "bmw             8\n",
       "datsun          8\n",
       "mitsubishi      6\n",
       "nissan          6\n",
       "commercial      6\n",
       "mercedes        6\n",
       "Name: company, dtype: int64"
      ]
     },
     "execution_count": 7,
     "metadata": {},
     "output_type": "execute_result"
    }
   ],
   "source": [
    "data.set_index('company', drop=True, inplace=True)\n",
    "\n",
    "for i in wrong_companies:\n",
    "    data.drop(i, inplace=True)\n",
    "\n",
    "data.reset_index(inplace=True)\n",
    "data['company'].value_counts()\n"
   ]
  },
  {
   "cell_type": "markdown",
   "id": "88dfe9df",
   "metadata": {},
   "source": [
    "***'Company' column is cleaned now, Lets start working on 'name' column***"
   ]
  },
  {
   "cell_type": "code",
   "execution_count": 8,
   "id": "bdb22c62",
   "metadata": {},
   "outputs": [],
   "source": [
    "data['name']=data['name'].str.lower().str.replace('maruti suzuki', 'marutisuzuki')"
   ]
  },
  {
   "cell_type": "code",
   "execution_count": 9,
   "id": "11e26de5",
   "metadata": {},
   "outputs": [],
   "source": [
    "data['name']=data['name'].str.split(' ').str.slice(0,2).str.join(' ')"
   ]
  },
  {
   "cell_type": "code",
   "execution_count": 10,
   "id": "81b592fe",
   "metadata": {},
   "outputs": [
    {
     "data": {
      "text/plain": [
       "marutisuzuki swift         56\n",
       "marutisuzuki alto          49\n",
       "mahindra scorpio           39\n",
       "honda city                 33\n",
       "marutisuzuki wagon         28\n",
       "tata indigo                24\n",
       "hyundai i20                23\n",
       "renault duster             21\n",
       "hyundai santro             20\n",
       "chevrolet beat             18\n",
       "honda amaze                18\n",
       "hyundai eon                18\n",
       "marutisuzuki ertiga        17\n",
       "hyundai elite              16\n",
       "ford ecosport              16\n",
       "hyundai grand              15\n",
       "hyundai verna              15\n",
       "mahindra xuv500            14\n",
       "marutisuzuki zen           14\n",
       "tata indica                14\n",
       "marutisuzuki dzire         14\n",
       "toyota corolla             13\n",
       "hyundai i10                11\n",
       "mahindra jeep              10\n",
       "toyota innova              10\n",
       "toyota etios               10\n",
       "tata zest                  10\n",
       "volkswagen polo            10\n",
       "marutisuzuki omni           9\n",
       "mini cooper                 8\n",
       "marutisuzuki ritz           8\n",
       "tata sumo                   8\n",
       "mahindra xylo               8\n",
       "ford figo                   8\n",
       "mahindra quanto             7\n",
       "volkswagen vento            7\n",
       "renault kwid                7\n",
       "skoda fabia                 7\n",
       "mercedes benz               6\n",
       "mahindra tuv300             6\n",
       "mahindra bolero             6\n",
       "mahindra kuv100             6\n",
       "tata nano                   6\n",
       "chevrolet spark             6\n",
       "marutisuzuki baleno         5\n",
       "datsun redi                 5\n",
       "hyundai creta               5\n",
       "marutisuzuki eeco           5\n",
       "marutisuzuki sx4            5\n",
       "hyundai getz                5\n",
       "mitsubishi pajero           5\n",
       "audi a4                     5\n",
       "toyota fortuner             5\n",
       "hyundai xcent               4\n",
       "honda brio                  4\n",
       "hyundai accent              4\n",
       "chevrolet tavera            4\n",
       "tata manza                  4\n",
       "marutisuzuki vitara         4\n",
       "marutisuzuki ciaz           3\n",
       "datsun go                   3\n",
       "marutisuzuki esteem         3\n",
       "renault lodgy               3\n",
       "marutisuzuki maruti         3\n",
       "marutisuzuki versa          3\n",
       "tata tiago                  3\n",
       "ford ikon                   3\n",
       "chevrolet sail              3\n",
       "hyundai fluidic             3\n",
       "renault scala               3\n",
       "bmw x1                      3\n",
       "bmw 5                       2\n",
       "nissan micra                2\n",
       "mahindra logan              2\n",
       "marutisuzuki 800            2\n",
       "tata                        2\n",
       "marutisuzuki estilo         2\n",
       "commercial chevrolet        2\n",
       "bmw 3                       2\n",
       "hyundai elantra             2\n",
       "chevrolet cruze             2\n",
       "skoda laura                 2\n",
       "commercial ,                2\n",
       "volkswagen jetta            2\n",
       "chevrolet enjoy             2\n",
       "nissan sunny                2\n",
       "marutisuzuki stingray       2\n",
       "honda jazz                  2\n",
       "honda mobilio               2\n",
       "ford fiesta                 2\n",
       "tata indi                   1\n",
       "ford endeavor               1\n",
       "hyundai venue               1\n",
       "commercial car              1\n",
       "tata bolt                   1\n",
       "tata venture                1\n",
       "skoda octavia               1\n",
       "commercial marutisuzuki     1\n",
       "audi q5                     1\n",
       "marutisuzuki s              1\n",
       "honda wr                    1\n",
       "audi a3                     1\n",
       "tata nexon                  1\n",
       "hyunda                      1\n",
       "ford fusion                 1\n",
       "maruti ertiga               1\n",
       "marutisuzuki celerio        1\n",
       "audi q7                     1\n",
       "mahindra xyl                1\n",
       "hyun                        1\n",
       "skoda rapid                 1\n",
       "audi a8                     1\n",
       "marutisuzuki desi           1\n",
       "volkswagen passat           1\n",
       "mahindra thar               1\n",
       "tata aria                   1\n",
       "nissan terrano              1\n",
       "honda accord                1\n",
       "skoda yeti                  1\n",
       "tata vista                  1\n",
       "audi a6                     1\n",
       "bmw 7                       1\n",
       "hyundai sonata              1\n",
       "nissan x                    1\n",
       "skoda superb                1\n",
       "audi q3                     1\n",
       "marutisuzuki a              1\n",
       "tata tigor                  1\n",
       "mitsubishi lancer           1\n",
       "toyota qualis               1\n",
       "Name: name, dtype: int64"
      ]
     },
     "execution_count": 10,
     "metadata": {},
     "output_type": "execute_result"
    }
   ],
   "source": [
    "data['name'].value_counts()"
   ]
  },
  {
   "cell_type": "markdown",
   "id": "68472f48",
   "metadata": {},
   "source": [
    "***From the above result, we are sure enough that the 'name' column is adquetly cleaned*** <br>\n",
    "***Now lets start working on 'year' column***"
   ]
  },
  {
   "cell_type": "code",
   "execution_count": 11,
   "id": "9afa01c8",
   "metadata": {},
   "outputs": [
    {
     "data": {
      "text/plain": [
       "2015    111\n",
       "2014     94\n",
       "2013     92\n",
       "2016     75\n",
       "2012     74\n",
       "2011     60\n",
       "2009     55\n",
       "2017     54\n",
       "2010     44\n",
       "2018     34\n",
       "2019     22\n",
       "2006     22\n",
       "2007     19\n",
       "2008     14\n",
       "2005     13\n",
       "2003     13\n",
       "2004     12\n",
       "2000      6\n",
       "2001      5\n",
       "2002      4\n",
       "...       3\n",
       "sale      3\n",
       "car       2\n",
       "o...      2\n",
       "cab       1\n",
       "t xe      1\n",
       "cent      1\n",
       "k...      1\n",
       "d...      1\n",
       "e...      1\n",
       "digo      1\n",
       "SALE      1\n",
       "/-Rs      1\n",
       "emi       1\n",
       "Zest      1\n",
       "Eon       1\n",
       "2 bs      1\n",
       "odel      1\n",
       "ara)      1\n",
       "1995      1\n",
       "TOUR      1\n",
       "150k      1\n",
       "EV2       1\n",
       "Name: year, dtype: int64"
      ]
     },
     "execution_count": 11,
     "metadata": {},
     "output_type": "execute_result"
    }
   ],
   "source": [
    "data['year'].value_counts()"
   ]
  },
  {
   "cell_type": "code",
   "execution_count": 12,
   "id": "7b532772",
   "metadata": {},
   "outputs": [
    {
     "data": {
      "text/html": [
       "<div>\n",
       "<style scoped>\n",
       "    .dataframe tbody tr th:only-of-type {\n",
       "        vertical-align: middle;\n",
       "    }\n",
       "\n",
       "    .dataframe tbody tr th {\n",
       "        vertical-align: top;\n",
       "    }\n",
       "\n",
       "    .dataframe thead th {\n",
       "        text-align: right;\n",
       "    }\n",
       "</style>\n",
       "<table border=\"1\" class=\"dataframe\">\n",
       "  <thead>\n",
       "    <tr style=\"text-align: right;\">\n",
       "      <th></th>\n",
       "      <th>company</th>\n",
       "      <th>name</th>\n",
       "      <th>year</th>\n",
       "      <th>Price</th>\n",
       "      <th>kms_driven</th>\n",
       "      <th>fuel_type</th>\n",
       "    </tr>\n",
       "  </thead>\n",
       "  <tbody>\n",
       "    <tr>\n",
       "      <th>181</th>\n",
       "      <td>commercial</td>\n",
       "      <td>commercial ,</td>\n",
       "      <td>...</td>\n",
       "      <td>Ask For Price</td>\n",
       "      <td>NaN</td>\n",
       "      <td>NaN</td>\n",
       "    </tr>\n",
       "    <tr>\n",
       "      <th>190</th>\n",
       "      <td>tata</td>\n",
       "      <td>tata indigo</td>\n",
       "      <td>150k</td>\n",
       "      <td>1,50,000</td>\n",
       "      <td>NaN</td>\n",
       "      <td>NaN</td>\n",
       "    </tr>\n",
       "    <tr>\n",
       "      <th>201</th>\n",
       "      <td>maruti</td>\n",
       "      <td>marutisuzuki desi</td>\n",
       "      <td>TOUR</td>\n",
       "      <td>4,00,000</td>\n",
       "      <td>NaN</td>\n",
       "      <td>NaN</td>\n",
       "    </tr>\n",
       "    <tr>\n",
       "      <th>278</th>\n",
       "      <td>commercial</td>\n",
       "      <td>commercial ,</td>\n",
       "      <td>...</td>\n",
       "      <td>Ask For Price</td>\n",
       "      <td>NaN</td>\n",
       "      <td>NaN</td>\n",
       "    </tr>\n",
       "    <tr>\n",
       "      <th>357</th>\n",
       "      <td>tata</td>\n",
       "      <td>tata zest</td>\n",
       "      <td>/-Rs</td>\n",
       "      <td>Ask For Price</td>\n",
       "      <td>NaN</td>\n",
       "      <td>NaN</td>\n",
       "    </tr>\n",
       "    <tr>\n",
       "      <th>373</th>\n",
       "      <td>maruti</td>\n",
       "      <td>marutisuzuki swift</td>\n",
       "      <td>sale</td>\n",
       "      <td>3,00,000</td>\n",
       "      <td>NaN</td>\n",
       "      <td>NaN</td>\n",
       "    </tr>\n",
       "    <tr>\n",
       "      <th>383</th>\n",
       "      <td>maruti</td>\n",
       "      <td>marutisuzuki swift</td>\n",
       "      <td>ara)</td>\n",
       "      <td>3,00,000</td>\n",
       "      <td>NaN</td>\n",
       "      <td>NaN</td>\n",
       "    </tr>\n",
       "    <tr>\n",
       "      <th>418</th>\n",
       "      <td>tata</td>\n",
       "      <td>tata zest</td>\n",
       "      <td>odel</td>\n",
       "      <td>3,20,000</td>\n",
       "      <td>NaN</td>\n",
       "      <td>NaN</td>\n",
       "    </tr>\n",
       "    <tr>\n",
       "      <th>419</th>\n",
       "      <td>mahindra</td>\n",
       "      <td>mahindra xyl</td>\n",
       "      <td>2 bs</td>\n",
       "      <td>3,50,000</td>\n",
       "      <td>NaN</td>\n",
       "      <td>NaN</td>\n",
       "    </tr>\n",
       "    <tr>\n",
       "      <th>543</th>\n",
       "      <td>hyundai</td>\n",
       "      <td>hyun</td>\n",
       "      <td>Eon</td>\n",
       "      <td>Ask For Price</td>\n",
       "      <td>NaN</td>\n",
       "      <td>NaN</td>\n",
       "    </tr>\n",
       "    <tr>\n",
       "      <th>574</th>\n",
       "      <td>commercial</td>\n",
       "      <td>commercial chevrolet</td>\n",
       "      <td>o...</td>\n",
       "      <td>2,25,000</td>\n",
       "      <td>NaN</td>\n",
       "      <td>NaN</td>\n",
       "    </tr>\n",
       "    <tr>\n",
       "      <th>580</th>\n",
       "      <td>commercial</td>\n",
       "      <td>commercial car</td>\n",
       "      <td>Zest</td>\n",
       "      <td>3,71,500</td>\n",
       "      <td>NaN</td>\n",
       "      <td>NaN</td>\n",
       "    </tr>\n",
       "    <tr>\n",
       "      <th>589</th>\n",
       "      <td>tata</td>\n",
       "      <td>tata indica</td>\n",
       "      <td>sale</td>\n",
       "      <td>1,30,000</td>\n",
       "      <td>NaN</td>\n",
       "      <td>NaN</td>\n",
       "    </tr>\n",
       "    <tr>\n",
       "      <th>603</th>\n",
       "      <td>tata</td>\n",
       "      <td>tata indigo</td>\n",
       "      <td>emi</td>\n",
       "      <td>1,70,000</td>\n",
       "      <td>NaN</td>\n",
       "      <td>NaN</td>\n",
       "    </tr>\n",
       "    <tr>\n",
       "      <th>614</th>\n",
       "      <td>tata</td>\n",
       "      <td>tata indigo</td>\n",
       "      <td>car</td>\n",
       "      <td>1,50,000</td>\n",
       "      <td>NaN</td>\n",
       "      <td>NaN</td>\n",
       "    </tr>\n",
       "    <tr>\n",
       "      <th>701</th>\n",
       "      <td>tata</td>\n",
       "      <td>tata zest</td>\n",
       "      <td>car</td>\n",
       "      <td>3,70,000</td>\n",
       "      <td>NaN</td>\n",
       "      <td>NaN</td>\n",
       "    </tr>\n",
       "    <tr>\n",
       "      <th>731</th>\n",
       "      <td>maruti</td>\n",
       "      <td>marutisuzuki ertiga</td>\n",
       "      <td>SALE</td>\n",
       "      <td>6,50,000</td>\n",
       "      <td>NaN</td>\n",
       "      <td>NaN</td>\n",
       "    </tr>\n",
       "    <tr>\n",
       "      <th>737</th>\n",
       "      <td>tata</td>\n",
       "      <td>tata</td>\n",
       "      <td>digo</td>\n",
       "      <td>Ask For Price</td>\n",
       "      <td>NaN</td>\n",
       "      <td>NaN</td>\n",
       "    </tr>\n",
       "    <tr>\n",
       "      <th>765</th>\n",
       "      <td>maruti</td>\n",
       "      <td>maruti ertiga</td>\n",
       "      <td>e...</td>\n",
       "      <td>4,80,000</td>\n",
       "      <td>NaN</td>\n",
       "      <td>NaN</td>\n",
       "    </tr>\n",
       "    <tr>\n",
       "      <th>766</th>\n",
       "      <td>maruti</td>\n",
       "      <td>marutisuzuki swift</td>\n",
       "      <td>d...</td>\n",
       "      <td>3,60,000</td>\n",
       "      <td>NaN</td>\n",
       "      <td>NaN</td>\n",
       "    </tr>\n",
       "    <tr>\n",
       "      <th>767</th>\n",
       "      <td>commercial</td>\n",
       "      <td>commercial chevrolet</td>\n",
       "      <td>k...</td>\n",
       "      <td>1,80,000</td>\n",
       "      <td>NaN</td>\n",
       "      <td>NaN</td>\n",
       "    </tr>\n",
       "    <tr>\n",
       "      <th>769</th>\n",
       "      <td>maruti</td>\n",
       "      <td>marutisuzuki swift</td>\n",
       "      <td>o...</td>\n",
       "      <td>3,10,000</td>\n",
       "      <td>NaN</td>\n",
       "      <td>NaN</td>\n",
       "    </tr>\n",
       "    <tr>\n",
       "      <th>770</th>\n",
       "      <td>hyundai</td>\n",
       "      <td>hyunda</td>\n",
       "      <td>cent</td>\n",
       "      <td>Ask For Price</td>\n",
       "      <td>NaN</td>\n",
       "      <td>NaN</td>\n",
       "    </tr>\n",
       "    <tr>\n",
       "      <th>771</th>\n",
       "      <td>commercial</td>\n",
       "      <td>commercial marutisuzuki</td>\n",
       "      <td>...</td>\n",
       "      <td>Ask For Price</td>\n",
       "      <td>NaN</td>\n",
       "      <td>NaN</td>\n",
       "    </tr>\n",
       "    <tr>\n",
       "      <th>772</th>\n",
       "      <td>maruti</td>\n",
       "      <td>marutisuzuki alto</td>\n",
       "      <td>cab</td>\n",
       "      <td>95,000</td>\n",
       "      <td>NaN</td>\n",
       "      <td>NaN</td>\n",
       "    </tr>\n",
       "    <tr>\n",
       "      <th>773</th>\n",
       "      <td>tata</td>\n",
       "      <td>tata</td>\n",
       "      <td>t xe</td>\n",
       "      <td>Ask For Price</td>\n",
       "      <td>NaN</td>\n",
       "      <td>NaN</td>\n",
       "    </tr>\n",
       "    <tr>\n",
       "      <th>774</th>\n",
       "      <td>tata</td>\n",
       "      <td>tata indi</td>\n",
       "      <td>EV2</td>\n",
       "      <td>1,10,000</td>\n",
       "      <td>NaN</td>\n",
       "      <td>NaN</td>\n",
       "    </tr>\n",
       "    <tr>\n",
       "      <th>845</th>\n",
       "      <td>tata</td>\n",
       "      <td>tata zest</td>\n",
       "      <td>sale</td>\n",
       "      <td>4,50,000</td>\n",
       "      <td>NaN</td>\n",
       "      <td>NaN</td>\n",
       "    </tr>\n",
       "  </tbody>\n",
       "</table>\n",
       "</div>"
      ],
      "text/plain": [
       "        company                     name  year          Price kms_driven  \\\n",
       "181  commercial             commercial ,   ...  Ask For Price        NaN   \n",
       "190        tata              tata indigo  150k       1,50,000        NaN   \n",
       "201      maruti        marutisuzuki desi  TOUR       4,00,000        NaN   \n",
       "278  commercial             commercial ,   ...  Ask For Price        NaN   \n",
       "357        tata                tata zest  /-Rs  Ask For Price        NaN   \n",
       "373      maruti       marutisuzuki swift  sale       3,00,000        NaN   \n",
       "383      maruti       marutisuzuki swift  ara)       3,00,000        NaN   \n",
       "418        tata                tata zest  odel       3,20,000        NaN   \n",
       "419    mahindra             mahindra xyl  2 bs       3,50,000        NaN   \n",
       "543     hyundai                     hyun   Eon  Ask For Price        NaN   \n",
       "574  commercial     commercial chevrolet  o...       2,25,000        NaN   \n",
       "580  commercial           commercial car  Zest       3,71,500        NaN   \n",
       "589        tata              tata indica  sale       1,30,000        NaN   \n",
       "603        tata              tata indigo   emi       1,70,000        NaN   \n",
       "614        tata              tata indigo   car       1,50,000        NaN   \n",
       "701        tata                tata zest   car       3,70,000        NaN   \n",
       "731      maruti      marutisuzuki ertiga  SALE       6,50,000        NaN   \n",
       "737        tata                     tata  digo  Ask For Price        NaN   \n",
       "765      maruti            maruti ertiga  e...       4,80,000        NaN   \n",
       "766      maruti       marutisuzuki swift  d...       3,60,000        NaN   \n",
       "767  commercial     commercial chevrolet  k...       1,80,000        NaN   \n",
       "769      maruti       marutisuzuki swift  o...       3,10,000        NaN   \n",
       "770     hyundai                   hyunda  cent  Ask For Price        NaN   \n",
       "771  commercial  commercial marutisuzuki   ...  Ask For Price        NaN   \n",
       "772      maruti        marutisuzuki alto   cab         95,000        NaN   \n",
       "773        tata                     tata  t xe  Ask For Price        NaN   \n",
       "774        tata                tata indi   EV2       1,10,000        NaN   \n",
       "845        tata                tata zest  sale       4,50,000        NaN   \n",
       "\n",
       "    fuel_type  \n",
       "181       NaN  \n",
       "190       NaN  \n",
       "201       NaN  \n",
       "278       NaN  \n",
       "357       NaN  \n",
       "373       NaN  \n",
       "383       NaN  \n",
       "418       NaN  \n",
       "419       NaN  \n",
       "543       NaN  \n",
       "574       NaN  \n",
       "580       NaN  \n",
       "589       NaN  \n",
       "603       NaN  \n",
       "614       NaN  \n",
       "701       NaN  \n",
       "731       NaN  \n",
       "737       NaN  \n",
       "765       NaN  \n",
       "766       NaN  \n",
       "767       NaN  \n",
       "769       NaN  \n",
       "770       NaN  \n",
       "771       NaN  \n",
       "772       NaN  \n",
       "773       NaN  \n",
       "774       NaN  \n",
       "845       NaN  "
      ]
     },
     "execution_count": 12,
     "metadata": {},
     "output_type": "execute_result"
    }
   ],
   "source": [
    " data[~data['year'].str.isnumeric()]"
   ]
  },
  {
   "cell_type": "markdown",
   "id": "ad24fc34",
   "metadata": {},
   "source": [
    "***Lets remove these years because there null values in kms_driven and fuel_type columns corresponding to each bad entry in year column***"
   ]
  },
  {
   "cell_type": "code",
   "execution_count": 13,
   "id": "d04f5ab9",
   "metadata": {},
   "outputs": [],
   "source": [
    "data = data[data['year'].str.isnumeric()]"
   ]
  },
  {
   "cell_type": "code",
   "execution_count": 14,
   "id": "1a3ede4e",
   "metadata": {},
   "outputs": [
    {
     "data": {
      "text/plain": [
       "company       0\n",
       "name          0\n",
       "year          0\n",
       "Price         0\n",
       "kms_driven    0\n",
       "fuel_type     3\n",
       "dtype: int64"
      ]
     },
     "execution_count": 14,
     "metadata": {},
     "output_type": "execute_result"
    }
   ],
   "source": [
    "data.isna().sum()"
   ]
  },
  {
   "cell_type": "markdown",
   "id": "66eaa743",
   "metadata": {},
   "source": [
    "***As we can see, most of the null values are vanished now, lets work with the remaining ones***"
   ]
  },
  {
   "cell_type": "code",
   "execution_count": 15,
   "id": "93b17f92",
   "metadata": {},
   "outputs": [
    {
     "data": {
      "text/plain": [
       "Petrol    435\n",
       "Diesel    384\n",
       "LPG         2\n",
       "Name: fuel_type, dtype: int64"
      ]
     },
     "execution_count": 15,
     "metadata": {},
     "output_type": "execute_result"
    }
   ],
   "source": [
    "data['fuel_type'].value_counts()"
   ]
  },
  {
   "cell_type": "code",
   "execution_count": 16,
   "id": "a3fda93c",
   "metadata": {},
   "outputs": [],
   "source": [
    "data['fuel_type'].fillna('Petrol', inplace=True)"
   ]
  },
  {
   "cell_type": "code",
   "execution_count": 17,
   "id": "8b569d93",
   "metadata": {},
   "outputs": [
    {
     "data": {
      "text/plain": [
       "company       0\n",
       "name          0\n",
       "year          0\n",
       "Price         0\n",
       "kms_driven    0\n",
       "fuel_type     0\n",
       "dtype: int64"
      ]
     },
     "execution_count": 17,
     "metadata": {},
     "output_type": "execute_result"
    }
   ],
   "source": [
    "data.isnull().sum()"
   ]
  },
  {
   "cell_type": "markdown",
   "id": "bdc7e5a9",
   "metadata": {},
   "source": [
    "***Now lets change the column datatypes and do nesessary changes in columns before changing the datatypes***"
   ]
  },
  {
   "cell_type": "code",
   "execution_count": 18,
   "id": "c1fa4855",
   "metadata": {},
   "outputs": [],
   "source": [
    "data['kms_driven']=data['kms_driven'].str.split().str.get(0).str.replace(',','')"
   ]
  },
  {
   "cell_type": "code",
   "execution_count": 19,
   "id": "bb9984fd",
   "metadata": {},
   "outputs": [],
   "source": [
    "data['kms_driven'].replace('Petrol', np.nan, inplace=True)"
   ]
  },
  {
   "cell_type": "code",
   "execution_count": 20,
   "id": "4374fd6f",
   "metadata": {},
   "outputs": [],
   "source": [
    "data['kms_driven']=data['kms_driven'].astype(float)"
   ]
  },
  {
   "cell_type": "code",
   "execution_count": 21,
   "id": "cec65703",
   "metadata": {},
   "outputs": [],
   "source": [
    "data['kms_driven']=data['kms_driven'].replace(np.nan, data['kms_driven'].mean())"
   ]
  },
  {
   "cell_type": "code",
   "execution_count": 22,
   "id": "4043e7c9",
   "metadata": {},
   "outputs": [],
   "source": [
    "data['kms_driven']=data['kms_driven'].astype(int)"
   ]
  },
  {
   "cell_type": "markdown",
   "id": "758bd7f2",
   "metadata": {},
   "source": [
    "***'kms_driven' column is cleaned now, lets clean Price column***"
   ]
  },
  {
   "cell_type": "code",
   "execution_count": 23,
   "id": "43cf311b",
   "metadata": {},
   "outputs": [],
   "source": [
    "data = data[data['Price']!='Ask For Price']"
   ]
  },
  {
   "cell_type": "code",
   "execution_count": 24,
   "id": "29927c75",
   "metadata": {},
   "outputs": [],
   "source": [
    "data['Price']=data['Price'].str.replace(',','')"
   ]
  },
  {
   "cell_type": "code",
   "execution_count": 25,
   "id": "1ec4fb20",
   "metadata": {},
   "outputs": [],
   "source": [
    "data['Price']=data['Price'].astype('int')"
   ]
  },
  {
   "cell_type": "code",
   "execution_count": 26,
   "id": "7608f579",
   "metadata": {},
   "outputs": [
    {
     "name": "stdout",
     "output_type": "stream",
     "text": [
      "<class 'pandas.core.frame.DataFrame'>\n",
      "Int64Index: 803 entries, 0 to 851\n",
      "Data columns (total 6 columns):\n",
      " #   Column      Non-Null Count  Dtype \n",
      "---  ------      --------------  ----- \n",
      " 0   company     803 non-null    object\n",
      " 1   name        803 non-null    object\n",
      " 2   year        803 non-null    object\n",
      " 3   Price       803 non-null    int32 \n",
      " 4   kms_driven  803 non-null    int32 \n",
      " 5   fuel_type   803 non-null    object\n",
      "dtypes: int32(2), object(4)\n",
      "memory usage: 37.6+ KB\n"
     ]
    }
   ],
   "source": [
    "data.info()"
   ]
  },
  {
   "cell_type": "markdown",
   "id": "1cbff76a",
   "metadata": {},
   "source": [
    "***All the columns are cleaned now and their datatypes are also fixed. <br> Lets do some extra Visual analysis***\n"
   ]
  },
  {
   "cell_type": "code",
   "execution_count": 27,
   "id": "289e4fa9",
   "metadata": {},
   "outputs": [
    {
     "data": {
      "text/html": [
       "<div>\n",
       "<style scoped>\n",
       "    .dataframe tbody tr th:only-of-type {\n",
       "        vertical-align: middle;\n",
       "    }\n",
       "\n",
       "    .dataframe tbody tr th {\n",
       "        vertical-align: top;\n",
       "    }\n",
       "\n",
       "    .dataframe thead th {\n",
       "        text-align: right;\n",
       "    }\n",
       "</style>\n",
       "<table border=\"1\" class=\"dataframe\">\n",
       "  <thead>\n",
       "    <tr style=\"text-align: right;\">\n",
       "      <th></th>\n",
       "      <th>company</th>\n",
       "      <th>name</th>\n",
       "      <th>year</th>\n",
       "      <th>Price</th>\n",
       "      <th>kms_driven</th>\n",
       "      <th>fuel_type</th>\n",
       "    </tr>\n",
       "  </thead>\n",
       "  <tbody>\n",
       "    <tr>\n",
       "      <th>0</th>\n",
       "      <td>hyundai</td>\n",
       "      <td>hyundai santro</td>\n",
       "      <td>2007</td>\n",
       "      <td>80000</td>\n",
       "      <td>45000</td>\n",
       "      <td>Petrol</td>\n",
       "    </tr>\n",
       "    <tr>\n",
       "      <th>1</th>\n",
       "      <td>mahindra</td>\n",
       "      <td>mahindra jeep</td>\n",
       "      <td>2006</td>\n",
       "      <td>425000</td>\n",
       "      <td>40</td>\n",
       "      <td>Diesel</td>\n",
       "    </tr>\n",
       "    <tr>\n",
       "      <th>3</th>\n",
       "      <td>hyundai</td>\n",
       "      <td>hyundai grand</td>\n",
       "      <td>2014</td>\n",
       "      <td>325000</td>\n",
       "      <td>28000</td>\n",
       "      <td>Petrol</td>\n",
       "    </tr>\n",
       "    <tr>\n",
       "      <th>4</th>\n",
       "      <td>ford</td>\n",
       "      <td>ford ecosport</td>\n",
       "      <td>2014</td>\n",
       "      <td>575000</td>\n",
       "      <td>36000</td>\n",
       "      <td>Diesel</td>\n",
       "    </tr>\n",
       "    <tr>\n",
       "      <th>6</th>\n",
       "      <td>ford</td>\n",
       "      <td>ford figo</td>\n",
       "      <td>2012</td>\n",
       "      <td>175000</td>\n",
       "      <td>41000</td>\n",
       "      <td>Diesel</td>\n",
       "    </tr>\n",
       "  </tbody>\n",
       "</table>\n",
       "</div>"
      ],
      "text/plain": [
       "    company            name  year   Price  kms_driven fuel_type\n",
       "0   hyundai  hyundai santro  2007   80000       45000    Petrol\n",
       "1  mahindra   mahindra jeep  2006  425000          40    Diesel\n",
       "3   hyundai   hyundai grand  2014  325000       28000    Petrol\n",
       "4      ford   ford ecosport  2014  575000       36000    Diesel\n",
       "6      ford       ford figo  2012  175000       41000    Diesel"
      ]
     },
     "execution_count": 27,
     "metadata": {},
     "output_type": "execute_result"
    }
   ],
   "source": [
    "data.head()"
   ]
  },
  {
   "cell_type": "code",
   "execution_count": 28,
   "id": "c5738570",
   "metadata": {},
   "outputs": [],
   "source": [
    "import matplotlib.pyplot as plt\n",
    "import seaborn as sns"
   ]
  },
  {
   "cell_type": "code",
   "execution_count": 29,
   "id": "75b5cef0",
   "metadata": {},
   "outputs": [
    {
     "data": {
      "image/png": "[encoded data removed]",
      "text/plain": [
       "<Figure size 958.875x576 with 1 Axes>"
      ]
     },
     "metadata": {
      "needs_background": "light"
     },
     "output_type": "display_data"
    }
   ],
   "source": [
    "\n",
    "ax=sns.relplot(data=data, x='kms_driven', y='Price', hue='company', height=8, aspect=1.5, style='company', s=100)\n"
   ]
  },
  {
   "cell_type": "markdown",
   "id": "8bd03362",
   "metadata": {},
   "source": [
    "***From the above plot, we can see there are some outliers in 'kms_driven' and 'Price' column <br> Lets remove these outliers***"
   ]
  },
  {
   "cell_type": "code",
   "execution_count": 30,
   "id": "67209498",
   "metadata": {},
   "outputs": [],
   "source": [
    "data.drop(data[data['kms_driven']>250000].index, axis=0, inplace=True)"
   ]
  },
  {
   "cell_type": "code",
   "execution_count": 31,
   "id": "40d06505",
   "metadata": {},
   "outputs": [],
   "source": [
    "data.drop(data[data['Price']>4000000].index, axis=0, inplace=True)"
   ]
  },
  {
   "cell_type": "code",
   "execution_count": 32,
   "id": "59c5be40",
   "metadata": {},
   "outputs": [
    {
     "data": {
      "image/png": "[encoded data removed]",
      "text/plain": [
       "<Figure size 958.875x576 with 1 Axes>"
      ]
     },
     "metadata": {
      "needs_background": "light"
     },
     "output_type": "display_data"
    }
   ],
   "source": [
    "\n",
    "ax=sns.relplot(data=data, x='kms_driven', y='Price', hue='company', height=8, aspect=1.5, style='company', s=100)\n"
   ]
  },
  {
   "cell_type": "code",
   "execution_count": 33,
   "id": "cb0fa643",
   "metadata": {},
   "outputs": [
    {
     "data": {
      "text/html": [
       "<div>\n",
       "<style scoped>\n",
       "    .dataframe tbody tr th:only-of-type {\n",
       "        vertical-align: middle;\n",
       "    }\n",
       "\n",
       "    .dataframe tbody tr th {\n",
       "        vertical-align: top;\n",
       "    }\n",
       "\n",
       "    .dataframe thead th {\n",
       "        text-align: right;\n",
       "    }\n",
       "</style>\n",
       "<table border=\"1\" class=\"dataframe\">\n",
       "  <thead>\n",
       "    <tr style=\"text-align: right;\">\n",
       "      <th></th>\n",
       "      <th>company</th>\n",
       "      <th>name</th>\n",
       "      <th>year</th>\n",
       "      <th>Price</th>\n",
       "      <th>kms_driven</th>\n",
       "      <th>fuel_type</th>\n",
       "    </tr>\n",
       "  </thead>\n",
       "  <tbody>\n",
       "    <tr>\n",
       "      <th>0</th>\n",
       "      <td>hyundai</td>\n",
       "      <td>hyundai santro</td>\n",
       "      <td>2007</td>\n",
       "      <td>80000</td>\n",
       "      <td>45000</td>\n",
       "      <td>Petrol</td>\n",
       "    </tr>\n",
       "    <tr>\n",
       "      <th>1</th>\n",
       "      <td>mahindra</td>\n",
       "      <td>mahindra jeep</td>\n",
       "      <td>2006</td>\n",
       "      <td>425000</td>\n",
       "      <td>40</td>\n",
       "      <td>Diesel</td>\n",
       "    </tr>\n",
       "    <tr>\n",
       "      <th>3</th>\n",
       "      <td>hyundai</td>\n",
       "      <td>hyundai grand</td>\n",
       "      <td>2014</td>\n",
       "      <td>325000</td>\n",
       "      <td>28000</td>\n",
       "      <td>Petrol</td>\n",
       "    </tr>\n",
       "    <tr>\n",
       "      <th>4</th>\n",
       "      <td>ford</td>\n",
       "      <td>ford ecosport</td>\n",
       "      <td>2014</td>\n",
       "      <td>575000</td>\n",
       "      <td>36000</td>\n",
       "      <td>Diesel</td>\n",
       "    </tr>\n",
       "    <tr>\n",
       "      <th>6</th>\n",
       "      <td>ford</td>\n",
       "      <td>ford figo</td>\n",
       "      <td>2012</td>\n",
       "      <td>175000</td>\n",
       "      <td>41000</td>\n",
       "      <td>Diesel</td>\n",
       "    </tr>\n",
       "  </tbody>\n",
       "</table>\n",
       "</div>"
      ],
      "text/plain": [
       "    company            name  year   Price  kms_driven fuel_type\n",
       "0   hyundai  hyundai santro  2007   80000       45000    Petrol\n",
       "1  mahindra   mahindra jeep  2006  425000          40    Diesel\n",
       "3   hyundai   hyundai grand  2014  325000       28000    Petrol\n",
       "4      ford   ford ecosport  2014  575000       36000    Diesel\n",
       "6      ford       ford figo  2012  175000       41000    Diesel"
      ]
     },
     "execution_count": 33,
     "metadata": {},
     "output_type": "execute_result"
    }
   ],
   "source": [
    "data.head()"
   ]
  },
  {
   "cell_type": "markdown",
   "id": "436e200b",
   "metadata": {},
   "source": [
    "***Lets check relationship between 'price' and 'fuel_type'***"
   ]
  },
  {
   "cell_type": "code",
   "execution_count": 34,
   "id": "8b7c9f2c",
   "metadata": {},
   "outputs": [
    {
     "data": {
      "text/plain": [
       "<AxesSubplot:xlabel='fuel_type', ylabel='Price'>"
      ]
     },
     "execution_count": 34,
     "metadata": {},
     "output_type": "execute_result"
    },
    {
     "data": {
      "image/png": "[encoded data removed]",
      "text/plain": [
       "<Figure size 864x576 with 1 Axes>"
      ]
     },
     "metadata": {
      "needs_background": "light"
     },
     "output_type": "display_data"
    }
   ],
   "source": [
    "plt.figure(figsize=(12,8))\n",
    "sns.boxplot(data=data, x= 'fuel_type', y='Price')"
   ]
  },
  {
   "cell_type": "code",
   "execution_count": 35,
   "id": "91204522",
   "metadata": {},
   "outputs": [
    {
     "data": {
      "text/html": [
       "<div>\n",
       "<style scoped>\n",
       "    .dataframe tbody tr th:only-of-type {\n",
       "        vertical-align: middle;\n",
       "    }\n",
       "\n",
       "    .dataframe tbody tr th {\n",
       "        vertical-align: top;\n",
       "    }\n",
       "\n",
       "    .dataframe thead th {\n",
       "        text-align: right;\n",
       "    }\n",
       "</style>\n",
       "<table border=\"1\" class=\"dataframe\">\n",
       "  <thead>\n",
       "    <tr style=\"text-align: right;\">\n",
       "      <th></th>\n",
       "      <th>company</th>\n",
       "      <th>name</th>\n",
       "      <th>year</th>\n",
       "      <th>Price</th>\n",
       "      <th>kms_driven</th>\n",
       "      <th>fuel_type</th>\n",
       "    </tr>\n",
       "  </thead>\n",
       "  <tbody>\n",
       "    <tr>\n",
       "      <th>0</th>\n",
       "      <td>hyundai</td>\n",
       "      <td>hyundai santro</td>\n",
       "      <td>2007</td>\n",
       "      <td>80000</td>\n",
       "      <td>45000</td>\n",
       "      <td>Petrol</td>\n",
       "    </tr>\n",
       "    <tr>\n",
       "      <th>1</th>\n",
       "      <td>mahindra</td>\n",
       "      <td>mahindra jeep</td>\n",
       "      <td>2006</td>\n",
       "      <td>425000</td>\n",
       "      <td>40</td>\n",
       "      <td>Diesel</td>\n",
       "    </tr>\n",
       "    <tr>\n",
       "      <th>3</th>\n",
       "      <td>hyundai</td>\n",
       "      <td>hyundai grand</td>\n",
       "      <td>2014</td>\n",
       "      <td>325000</td>\n",
       "      <td>28000</td>\n",
       "      <td>Petrol</td>\n",
       "    </tr>\n",
       "    <tr>\n",
       "      <th>4</th>\n",
       "      <td>ford</td>\n",
       "      <td>ford ecosport</td>\n",
       "      <td>2014</td>\n",
       "      <td>575000</td>\n",
       "      <td>36000</td>\n",
       "      <td>Diesel</td>\n",
       "    </tr>\n",
       "    <tr>\n",
       "      <th>6</th>\n",
       "      <td>ford</td>\n",
       "      <td>ford figo</td>\n",
       "      <td>2012</td>\n",
       "      <td>175000</td>\n",
       "      <td>41000</td>\n",
       "      <td>Diesel</td>\n",
       "    </tr>\n",
       "  </tbody>\n",
       "</table>\n",
       "</div>"
      ],
      "text/plain": [
       "    company            name  year   Price  kms_driven fuel_type\n",
       "0   hyundai  hyundai santro  2007   80000       45000    Petrol\n",
       "1  mahindra   mahindra jeep  2006  425000          40    Diesel\n",
       "3   hyundai   hyundai grand  2014  325000       28000    Petrol\n",
       "4      ford   ford ecosport  2014  575000       36000    Diesel\n",
       "6      ford       ford figo  2012  175000       41000    Diesel"
      ]
     },
     "execution_count": 35,
     "metadata": {},
     "output_type": "execute_result"
    }
   ],
   "source": [
    "data.head()"
   ]
  },
  {
   "cell_type": "code",
   "execution_count": 67,
   "id": "ddad4857",
   "metadata": {},
   "outputs": [
    {
     "data": {
      "text/plain": [
       "<AxesSubplot:xlabel='year', ylabel='Price'>"
      ]
     },
     "execution_count": 67,
     "metadata": {},
     "output_type": "execute_result"
    },
    {
     "data": {
      "image/png": "[encoded data removed]",
      "text/plain": [
       "<Figure size 1296x720 with 1 Axes>"
      ]
     },
     "metadata": {
      "needs_background": "light"
     },
     "output_type": "display_data"
    }
   ],
   "source": [
    "plt.figure(figsize=(18,10)) \n",
    "sorted_year = (data['year'].unique().tolist())\n",
    "sorted_year.sort()\n",
    "sns.swarmplot(data= data, x= 'year', y='Price', order=sorted_year, hue='company')"
   ]
  },
  {
   "cell_type": "markdown",
   "id": "a7c833ec",
   "metadata": {},
   "source": [
    "***Lets Start Building the Model (Linear Regression)***"
   ]
  },
  {
   "cell_type": "code",
   "execution_count": 590,
   "id": "651bacb3",
   "metadata": {},
   "outputs": [],
   "source": [
    "from sklearn.preprocessing import OneHotEncoder\n",
    "from sklearn.compose import ColumnTransformer\n",
    "from sklearn.linear_model import LinearRegression\n",
    "from sklearn.pipeline import make_pipeline\n",
    "from sklearn.model_selection import train_test_split\n"
   ]
  },
  {
   "cell_type": "code",
   "execution_count": 591,
   "id": "122ed2cb",
   "metadata": {},
   "outputs": [],
   "source": [
    "# here we have reduced some datapoints to achieve better accuracy (we have removed non-significant columns)\n",
    "\n",
    "data1 = data1[~data1['name'].isin((data.name.value_counts()[data.name.value_counts()<3]).index.to_list())]\n"
   ]
  },
  {
   "cell_type": "code",
   "execution_count": 592,
   "id": "7fafef1e",
   "metadata": {},
   "outputs": [],
   "source": [
    "ohe=OneHotEncoder()\n",
    "ohe.fit(data1[['name','company','fuel_type']])\n",
    "\n",
    "column_trans = ColumnTransformer(transformers=[('t1', OneHotEncoder(categories=ohe.categories_),['name','company','fuel_type'])],remainder='passthrough', sparse_threshold=0)\n",
    "\n",
    "lr = LinearRegression()\n",
    "\n",
    "pipe = make_pipeline(column_trans,lr)"
   ]
  },
  {
   "cell_type": "markdown",
   "id": "3eda7c2d",
   "metadata": {},
   "source": [
    "***Lets check for what random state the model is giving maximum r2 score***"
   ]
  },
  {
   "cell_type": "code",
   "execution_count": 593,
   "id": "b6a163c2",
   "metadata": {},
   "outputs": [],
   "source": [
    "r_score_test=[]\n",
    "r_score_train=[]\n",
    "for i in range(0,1000):\n",
    "    train, test = train_test_split(data1, train_size=0.8, random_state=i)\n",
    "    train_x = pd.concat([train.iloc[:,0:3:],train.iloc[:,4::]], axis=1)\n",
    "    train_y = train.iloc[:,3]\n",
    "    test_x = pd.concat([test.iloc[:,0:3:],test.iloc[:,4::]], axis=1)\n",
    "    test_y = test.iloc[:,3]\n",
    "    pipe.fit(train_x,train_y)\n",
    "    pred_test = pipe.predict(test_x)\n",
    "    pred_train = pipe.predict(train_x)\n",
    "    r_score_test.append(r2_score(test_y, pred_test))\n",
    "    r_score_train.append(r2_score(train_y, pred_train))"
   ]
  },
  {
   "cell_type": "code",
   "execution_count": 594,
   "id": "884fd2cd",
   "metadata": {},
   "outputs": [
    {
     "data": {
      "text/plain": [
       "0.9380131348511307"
      ]
     },
     "execution_count": 594,
     "metadata": {},
     "output_type": "execute_result"
    }
   ],
   "source": [
    "max(r_score_test)"
   ]
  },
  {
   "cell_type": "code",
   "execution_count": 595,
   "id": "4089ed21",
   "metadata": {},
   "outputs": [
    {
     "data": {
      "text/plain": [
       "0.8975540645449281"
      ]
     },
     "execution_count": 595,
     "metadata": {},
     "output_type": "execute_result"
    }
   ],
   "source": [
    "max(r_score_train)"
   ]
  },
  {
   "cell_type": "markdown",
   "id": "1f1734b5",
   "metadata": {},
   "source": [
    "***since we have got to know the random state for the max r2 score, lets build model on the same random state***"
   ]
  },
  {
   "cell_type": "code",
   "execution_count": 596,
   "id": "203f8753",
   "metadata": {},
   "outputs": [],
   "source": [
    "train, test = train_test_split(data1, train_size=0.8, random_state=r_score_test.index(max(r_score_test)))\n",
    "train_x = pd.concat([train.iloc[:,0:3:],train.iloc[:,4::]], axis=1)\n",
    "train_y = train.iloc[:,3]\n",
    "test_x = pd.concat([test.iloc[:,0:3:],test.iloc[:,4::]], axis=1)\n",
    "test_y = test.iloc[:,3]\n",
    "\n",
    "pipe.fit(train_x,train_y)\n",
    "pred_test = pipe.predict(test_x)\n",
    "pred_train = pipe.predict(train_x)"
   ]
  },
  {
   "cell_type": "code",
   "execution_count": 597,
   "id": "7a217086",
   "metadata": {},
   "outputs": [],
   "source": [
    "from sklearn.metrics import r2_score, mean_squared_error, mean_absolute_percentage_error, mean_absolute_error"
   ]
  },
  {
   "cell_type": "code",
   "execution_count": 598,
   "id": "6c86f278",
   "metadata": {},
   "outputs": [
    {
     "data": {
      "text/plain": [
       "0.9380131348511307"
      ]
     },
     "execution_count": 598,
     "metadata": {},
     "output_type": "execute_result"
    }
   ],
   "source": [
    "r2_score(test_y, pred_test)"
   ]
  },
  {
   "cell_type": "code",
   "execution_count": 620,
   "id": "d18c12b7",
   "metadata": {},
   "outputs": [
    {
     "data": {
      "text/plain": [
       "0.9267427957331544"
      ]
     },
     "execution_count": 620,
     "metadata": {},
     "output_type": "execute_result"
    }
   ],
   "source": [
    "n = train_x.shape[0]\n",
    "k = len(column_trans.get_feature_names())\n",
    "adjusted_r2 = 1-((1-(max(r_score_test)))*(n-1))/(n-k-1)\n",
    "adjusted_r2"
   ]
  },
  {
   "cell_type": "code",
   "execution_count": 599,
   "id": "7661d67b",
   "metadata": {},
   "outputs": [
    {
     "data": {
      "text/plain": [
       "7458172878.559141"
      ]
     },
     "execution_count": 599,
     "metadata": {},
     "output_type": "execute_result"
    }
   ],
   "source": [
    "mean_squared_error(test_y, pred_test)"
   ]
  },
  {
   "cell_type": "code",
   "execution_count": 600,
   "id": "458a884d",
   "metadata": {},
   "outputs": [
    {
     "data": {
      "text/plain": [
       "0.2588366995646292"
      ]
     },
     "execution_count": 600,
     "metadata": {},
     "output_type": "execute_result"
    }
   ],
   "source": [
    "mean_absolute_percentage_error(test_y, pred_test)"
   ]
  },
  {
   "cell_type": "code",
   "execution_count": 601,
   "id": "5396fe7b",
   "metadata": {},
   "outputs": [
    {
     "data": {
      "text/plain": [
       "63660.95327613467"
      ]
     },
     "execution_count": 601,
     "metadata": {},
     "output_type": "execute_result"
    }
   ],
   "source": [
    "mean_absolute_error(test_y, pred_test)"
   ]
  },
  {
   "cell_type": "markdown",
   "id": "25238286",
   "metadata": {},
   "source": [
    "***Lets try to build the model using statsmodel.api, here we will be able to determine what all columns are non significant usint their p value***"
   ]
  },
  {
   "cell_type": "code",
   "execution_count": 602,
   "id": "8e111884",
   "metadata": {},
   "outputs": [],
   "source": [
    "import statsmodels.api as sm"
   ]
  },
  {
   "cell_type": "code",
   "execution_count": 603,
   "id": "6b956546",
   "metadata": {},
   "outputs": [],
   "source": [
    "df1 = pd.DataFrame(column_trans.fit_transform(train_x), columns=column_trans.get_feature_names())"
   ]
  },
  {
   "cell_type": "code",
   "execution_count": 604,
   "id": "73687d50",
   "metadata": {},
   "outputs": [],
   "source": [
    "y = list(train_y)"
   ]
  },
  {
   "cell_type": "code",
   "execution_count": 605,
   "id": "4fba4a69",
   "metadata": {
    "scrolled": false
   },
   "outputs": [
    {
     "data": {
      "text/html": [
       "<table class=\"simpletable\">\n",
       "<caption>OLS Regression Results</caption>\n",
       "<tr>\n",
       "  <th>Dep. Variable:</th>            <td>y</td>        <th>  R-squared:         </th> <td>   0.841</td> \n",
       "</tr>\n",
       "<tr>\n",
       "  <th>Model:</th>                   <td>OLS</td>       <th>  Adj. R-squared:    </th> <td>   0.820</td> \n",
       "</tr>\n",
       "<tr>\n",
       "  <th>Method:</th>             <td>Least Squares</td>  <th>  F-statistic:       </th> <td>   38.43</td> \n",
       "</tr>\n",
       "<tr>\n",
       "  <th>Date:</th>             <td>Sat, 26 Nov 2022</td> <th>  Prob (F-statistic):</th> <td>5.47e-164</td>\n",
       "</tr>\n",
       "<tr>\n",
       "  <th>Time:</th>                 <td>11:01:50</td>     <th>  Log-Likelihood:    </th> <td> -7717.1</td> \n",
       "</tr>\n",
       "<tr>\n",
       "  <th>No. Observations:</th>      <td>   586</td>      <th>  AIC:               </th> <td>1.558e+04</td>\n",
       "</tr>\n",
       "<tr>\n",
       "  <th>Df Residuals:</th>          <td>   514</td>      <th>  BIC:               </th> <td>1.589e+04</td>\n",
       "</tr>\n",
       "<tr>\n",
       "  <th>Df Model:</th>              <td>    71</td>      <th>                     </th>     <td> </td>    \n",
       "</tr>\n",
       "<tr>\n",
       "  <th>Covariance Type:</th>      <td>nonrobust</td>    <th>                     </th>     <td> </td>    \n",
       "</tr>\n",
       "</table>\n",
       "<table class=\"simpletable\">\n",
       "<tr>\n",
       "               <td></td>                 <th>coef</th>     <th>std err</th>      <th>t</th>      <th>P>|t|</th>  <th>[0.025</th>    <th>0.975]</th>  \n",
       "</tr>\n",
       "<tr>\n",
       "  <th>const</th>                      <td>-3.945e+07</td> <td> 2.89e+06</td> <td>  -13.633</td> <td> 0.000</td> <td>-4.51e+07</td> <td>-3.38e+07</td>\n",
       "</tr>\n",
       "<tr>\n",
       "  <th>t1__x0_audi a4</th>             <td>-1.352e+06</td> <td> 1.27e+05</td> <td>  -10.660</td> <td> 0.000</td> <td> -1.6e+06</td> <td> -1.1e+06</td>\n",
       "</tr>\n",
       "<tr>\n",
       "  <th>t1__x0_bmw x1</th>              <td>-1.467e+06</td> <td> 1.31e+05</td> <td>  -11.210</td> <td> 0.000</td> <td>-1.72e+06</td> <td>-1.21e+06</td>\n",
       "</tr>\n",
       "<tr>\n",
       "  <th>t1__x0_chevrolet beat</th>      <td>-8.705e+05</td> <td> 6.94e+04</td> <td>  -12.547</td> <td> 0.000</td> <td>-1.01e+06</td> <td>-7.34e+05</td>\n",
       "</tr>\n",
       "<tr>\n",
       "  <th>t1__x0_chevrolet sail</th>      <td>-6.969e+05</td> <td> 1.23e+05</td> <td>   -5.685</td> <td> 0.000</td> <td>-9.38e+05</td> <td>-4.56e+05</td>\n",
       "</tr>\n",
       "<tr>\n",
       "  <th>t1__x0_chevrolet spark</th>     <td>-8.093e+05</td> <td> 7.98e+04</td> <td>  -10.139</td> <td> 0.000</td> <td>-9.66e+05</td> <td>-6.53e+05</td>\n",
       "</tr>\n",
       "<tr>\n",
       "  <th>t1__x0_chevrolet tavera</th>    <td>-5.719e+05</td> <td>  8.3e+04</td> <td>   -6.894</td> <td> 0.000</td> <td>-7.35e+05</td> <td>-4.09e+05</td>\n",
       "</tr>\n",
       "<tr>\n",
       "  <th>t1__x0_datsun redi</th>         <td>-1.906e+06</td> <td> 1.32e+05</td> <td>  -14.421</td> <td> 0.000</td> <td>-2.17e+06</td> <td>-1.65e+06</td>\n",
       "</tr>\n",
       "<tr>\n",
       "  <th>t1__x0_ford ecosport</th>       <td>-7.268e+05</td> <td>    8e+04</td> <td>   -9.091</td> <td> 0.000</td> <td>-8.84e+05</td> <td> -5.7e+05</td>\n",
       "</tr>\n",
       "<tr>\n",
       "  <th>t1__x0_ford figo</th>           <td>-1.049e+06</td> <td> 8.55e+04</td> <td>  -12.272</td> <td> 0.000</td> <td>-1.22e+06</td> <td>-8.81e+05</td>\n",
       "</tr>\n",
       "<tr>\n",
       "  <th>t1__x0_ford ikon</th>           <td>-9.367e+05</td> <td> 9.09e+04</td> <td>  -10.307</td> <td> 0.000</td> <td>-1.12e+06</td> <td>-7.58e+05</td>\n",
       "</tr>\n",
       "<tr>\n",
       "  <th>t1__x0_honda amaze</th>         <td>-9.655e+05</td> <td> 7.81e+04</td> <td>  -12.363</td> <td> 0.000</td> <td>-1.12e+06</td> <td>-8.12e+05</td>\n",
       "</tr>\n",
       "<tr>\n",
       "  <th>t1__x0_honda brio</th>          <td> -9.67e+05</td> <td> 1.19e+05</td> <td>   -8.154</td> <td> 0.000</td> <td> -1.2e+06</td> <td>-7.34e+05</td>\n",
       "</tr>\n",
       "<tr>\n",
       "  <th>t1__x0_honda city</th>          <td>-7.921e+05</td> <td> 7.34e+04</td> <td>  -10.798</td> <td> 0.000</td> <td>-9.36e+05</td> <td>-6.48e+05</td>\n",
       "</tr>\n",
       "<tr>\n",
       "  <th>t1__x0_hyundai accent</th>      <td>-4.049e+05</td> <td>  7.4e+04</td> <td>   -5.472</td> <td> 0.000</td> <td> -5.5e+05</td> <td> -2.6e+05</td>\n",
       "</tr>\n",
       "<tr>\n",
       "  <th>t1__x0_hyundai creta</th>       <td> 2.087e+05</td> <td> 6.43e+04</td> <td>    3.246</td> <td> 0.001</td> <td> 8.24e+04</td> <td> 3.35e+05</td>\n",
       "</tr>\n",
       "<tr>\n",
       "  <th>t1__x0_hyundai elite</th>       <td>-2.638e+05</td> <td> 4.82e+04</td> <td>   -5.472</td> <td> 0.000</td> <td>-3.59e+05</td> <td>-1.69e+05</td>\n",
       "</tr>\n",
       "<tr>\n",
       "  <th>t1__x0_hyundai eon</th>         <td>-5.136e+05</td> <td>  4.4e+04</td> <td>  -11.675</td> <td> 0.000</td> <td>   -6e+05</td> <td>-4.27e+05</td>\n",
       "</tr>\n",
       "<tr>\n",
       "  <th>t1__x0_hyundai fluidic</th>     <td>-2.572e+05</td> <td>  7.8e+04</td> <td>   -3.297</td> <td> 0.001</td> <td> -4.1e+05</td> <td>-1.04e+05</td>\n",
       "</tr>\n",
       "<tr>\n",
       "  <th>t1__x0_hyundai getz</th>        <td>-3.962e+05</td> <td> 6.48e+04</td> <td>   -6.111</td> <td> 0.000</td> <td>-5.24e+05</td> <td>-2.69e+05</td>\n",
       "</tr>\n",
       "<tr>\n",
       "  <th>t1__x0_hyundai grand</th>       <td>-3.514e+05</td> <td>  4.6e+04</td> <td>   -7.641</td> <td> 0.000</td> <td>-4.42e+05</td> <td>-2.61e+05</td>\n",
       "</tr>\n",
       "<tr>\n",
       "  <th>t1__x0_hyundai i10</th>         <td>-3.548e+05</td> <td> 4.57e+04</td> <td>   -7.763</td> <td> 0.000</td> <td>-4.45e+05</td> <td>-2.65e+05</td>\n",
       "</tr>\n",
       "<tr>\n",
       "  <th>t1__x0_hyundai i20</th>         <td>-3.536e+05</td> <td> 3.81e+04</td> <td>   -9.292</td> <td> 0.000</td> <td>-4.28e+05</td> <td>-2.79e+05</td>\n",
       "</tr>\n",
       "<tr>\n",
       "  <th>t1__x0_hyundai santro</th>      <td>-3.529e+05</td> <td> 3.67e+04</td> <td>   -9.609</td> <td> 0.000</td> <td>-4.25e+05</td> <td>-2.81e+05</td>\n",
       "</tr>\n",
       "<tr>\n",
       "  <th>t1__x0_hyundai verna</th>       <td>-2.427e+05</td> <td> 4.78e+04</td> <td>   -5.077</td> <td> 0.000</td> <td>-3.37e+05</td> <td>-1.49e+05</td>\n",
       "</tr>\n",
       "<tr>\n",
       "  <th>t1__x0_mahindra bolero</th>     <td>-6.007e+05</td> <td> 6.37e+04</td> <td>   -9.434</td> <td> 0.000</td> <td>-7.26e+05</td> <td>-4.76e+05</td>\n",
       "</tr>\n",
       "<tr>\n",
       "  <th>t1__x0_mahindra jeep</th>       <td>-5.054e+05</td> <td> 5.11e+04</td> <td>   -9.884</td> <td> 0.000</td> <td>-6.06e+05</td> <td>-4.05e+05</td>\n",
       "</tr>\n",
       "<tr>\n",
       "  <th>t1__x0_mahindra kuv100</th>     <td>-5.003e+05</td> <td> 7.15e+04</td> <td>   -6.994</td> <td> 0.000</td> <td>-6.41e+05</td> <td> -3.6e+05</td>\n",
       "</tr>\n",
       "<tr>\n",
       "  <th>t1__x0_mahindra quanto</th>     <td>-4.882e+05</td> <td> 6.69e+04</td> <td>   -7.297</td> <td> 0.000</td> <td> -6.2e+05</td> <td>-3.57e+05</td>\n",
       "</tr>\n",
       "<tr>\n",
       "  <th>t1__x0_mahindra scorpio</th>    <td>-2.933e+05</td> <td> 3.76e+04</td> <td>   -7.795</td> <td> 0.000</td> <td>-3.67e+05</td> <td>-2.19e+05</td>\n",
       "</tr>\n",
       "<tr>\n",
       "  <th>t1__x0_mahindra tuv300</th>     <td>-2.573e+05</td> <td> 7.01e+04</td> <td>   -3.672</td> <td> 0.000</td> <td>-3.95e+05</td> <td> -1.2e+05</td>\n",
       "</tr>\n",
       "<tr>\n",
       "  <th>t1__x0_mahindra xuv500</th>     <td> -6.47e+04</td> <td> 4.95e+04</td> <td>   -1.307</td> <td> 0.192</td> <td>-1.62e+05</td> <td> 3.25e+04</td>\n",
       "</tr>\n",
       "<tr>\n",
       "  <th>t1__x0_mahindra xylo</th>       <td>-4.237e+05</td> <td> 5.28e+04</td> <td>   -8.019</td> <td> 0.000</td> <td>-5.28e+05</td> <td> -3.2e+05</td>\n",
       "</tr>\n",
       "<tr>\n",
       "  <th>t1__x0_marutisuzuki alto</th>   <td>-3.695e+05</td> <td> 3.34e+04</td> <td>  -11.078</td> <td> 0.000</td> <td>-4.35e+05</td> <td>-3.04e+05</td>\n",
       "</tr>\n",
       "<tr>\n",
       "  <th>t1__x0_marutisuzuki baleno</th> <td>-1.306e+05</td> <td> 7.03e+04</td> <td>   -1.859</td> <td> 0.064</td> <td>-2.69e+05</td> <td> 7433.459</td>\n",
       "</tr>\n",
       "<tr>\n",
       "  <th>t1__x0_marutisuzuki ciaz</th>   <td> 2.871e+04</td> <td> 7.92e+04</td> <td>    0.363</td> <td> 0.717</td> <td>-1.27e+05</td> <td> 1.84e+05</td>\n",
       "</tr>\n",
       "<tr>\n",
       "  <th>t1__x0_marutisuzuki dzire</th>  <td>-2.314e+05</td> <td> 4.87e+04</td> <td>   -4.751</td> <td> 0.000</td> <td>-3.27e+05</td> <td>-1.36e+05</td>\n",
       "</tr>\n",
       "<tr>\n",
       "  <th>t1__x0_marutisuzuki eeco</th>   <td>-3.516e+05</td> <td> 6.94e+04</td> <td>   -5.064</td> <td> 0.000</td> <td>-4.88e+05</td> <td>-2.15e+05</td>\n",
       "</tr>\n",
       "<tr>\n",
       "  <th>t1__x0_marutisuzuki ertiga</th> <td>-3.106e+04</td> <td> 4.28e+04</td> <td>   -0.725</td> <td> 0.469</td> <td>-1.15e+05</td> <td> 5.31e+04</td>\n",
       "</tr>\n",
       "<tr>\n",
       "  <th>t1__x0_marutisuzuki esteem</th> <td> -2.86e+05</td> <td> 9.15e+04</td> <td>   -3.127</td> <td> 0.002</td> <td>-4.66e+05</td> <td>-1.06e+05</td>\n",
       "</tr>\n",
       "<tr>\n",
       "  <th>t1__x0_marutisuzuki maruti</th> <td>-1.113e+05</td> <td> 9.17e+04</td> <td>   -1.214</td> <td> 0.225</td> <td>-2.91e+05</td> <td> 6.88e+04</td>\n",
       "</tr>\n",
       "<tr>\n",
       "  <th>t1__x0_marutisuzuki omni</th>   <td>-3.158e+05</td> <td> 5.53e+04</td> <td>   -5.708</td> <td> 0.000</td> <td>-4.24e+05</td> <td>-2.07e+05</td>\n",
       "</tr>\n",
       "<tr>\n",
       "  <th>t1__x0_marutisuzuki ritz</th>   <td>-2.689e+05</td> <td> 5.65e+04</td> <td>   -4.758</td> <td> 0.000</td> <td> -3.8e+05</td> <td>-1.58e+05</td>\n",
       "</tr>\n",
       "<tr>\n",
       "  <th>t1__x0_marutisuzuki swift</th>  <td>-2.763e+05</td> <td> 3.07e+04</td> <td>   -8.999</td> <td> 0.000</td> <td>-3.37e+05</td> <td>-2.16e+05</td>\n",
       "</tr>\n",
       "<tr>\n",
       "  <th>t1__x0_marutisuzuki sx4</th>    <td>-1.504e+05</td> <td> 6.12e+04</td> <td>   -2.458</td> <td> 0.014</td> <td>-2.71e+05</td> <td>-3.02e+04</td>\n",
       "</tr>\n",
       "<tr>\n",
       "  <th>t1__x0_marutisuzuki versa</th>  <td>-2.108e+05</td> <td> 7.51e+04</td> <td>   -2.809</td> <td> 0.005</td> <td>-3.58e+05</td> <td>-6.34e+04</td>\n",
       "</tr>\n",
       "<tr>\n",
       "  <th>t1__x0_marutisuzuki vitara</th> <td>-1.261e+05</td> <td> 7.06e+04</td> <td>   -1.787</td> <td> 0.074</td> <td>-2.65e+05</td> <td> 1.25e+04</td>\n",
       "</tr>\n",
       "<tr>\n",
       "  <th>t1__x0_marutisuzuki wagon</th>  <td>-3.302e+05</td> <td> 3.35e+04</td> <td>   -9.869</td> <td> 0.000</td> <td>-3.96e+05</td> <td>-2.64e+05</td>\n",
       "</tr>\n",
       "<tr>\n",
       "  <th>t1__x0_marutisuzuki zen</th>    <td>-2.255e+05</td> <td> 4.52e+04</td> <td>   -4.988</td> <td> 0.000</td> <td>-3.14e+05</td> <td>-1.37e+05</td>\n",
       "</tr>\n",
       "<tr>\n",
       "  <th>t1__x0_mercedes benz</th>       <td>-1.363e+06</td> <td> 1.24e+05</td> <td>  -10.980</td> <td> 0.000</td> <td>-1.61e+06</td> <td>-1.12e+06</td>\n",
       "</tr>\n",
       "<tr>\n",
       "  <th>t1__x0_mini cooper</th>         <td> -1.03e+06</td> <td> 1.28e+05</td> <td>   -8.036</td> <td> 0.000</td> <td>-1.28e+06</td> <td>-7.78e+05</td>\n",
       "</tr>\n",
       "<tr>\n",
       "  <th>t1__x0_mitsubishi pajero</th>   <td>-1.224e+06</td> <td> 1.32e+05</td> <td>   -9.266</td> <td> 0.000</td> <td>-1.48e+06</td> <td>-9.64e+05</td>\n",
       "</tr>\n",
       "<tr>\n",
       "  <th>t1__x0_renault duster</th>      <td>-7.675e+05</td> <td> 6.89e+04</td> <td>  -11.147</td> <td> 0.000</td> <td>-9.03e+05</td> <td>-6.32e+05</td>\n",
       "</tr>\n",
       "<tr>\n",
       "  <th>t1__x0_renault kwid</th>        <td>-1.021e+06</td> <td> 8.36e+04</td> <td>  -12.221</td> <td> 0.000</td> <td>-1.19e+06</td> <td>-8.57e+05</td>\n",
       "</tr>\n",
       "<tr>\n",
       "  <th>t1__x0_renault scala</th>       <td>-9.409e+05</td> <td> 8.66e+04</td> <td>  -10.864</td> <td> 0.000</td> <td>-1.11e+06</td> <td>-7.71e+05</td>\n",
       "</tr>\n",
       "<tr>\n",
       "  <th>t1__x0_skoda fabia</th>         <td> -1.86e+06</td> <td> 1.27e+05</td> <td>  -14.677</td> <td> 0.000</td> <td>-2.11e+06</td> <td>-1.61e+06</td>\n",
       "</tr>\n",
       "<tr>\n",
       "  <th>t1__x0_tata indica</th>         <td>-4.699e+05</td> <td> 4.63e+04</td> <td>  -10.142</td> <td> 0.000</td> <td>-5.61e+05</td> <td>-3.79e+05</td>\n",
       "</tr>\n",
       "<tr>\n",
       "  <th>t1__x0_tata indigo</th>         <td>-5.203e+05</td> <td>    5e+04</td> <td>  -10.407</td> <td> 0.000</td> <td>-6.18e+05</td> <td>-4.22e+05</td>\n",
       "</tr>\n",
       "<tr>\n",
       "  <th>t1__x0_tata manza</th>          <td>-5.073e+05</td> <td> 7.09e+04</td> <td>   -7.156</td> <td> 0.000</td> <td>-6.47e+05</td> <td>-3.68e+05</td>\n",
       "</tr>\n",
       "<tr>\n",
       "  <th>t1__x0_tata nano</th>           <td>-5.654e+05</td> <td> 6.01e+04</td> <td>   -9.407</td> <td> 0.000</td> <td>-6.83e+05</td> <td>-4.47e+05</td>\n",
       "</tr>\n",
       "<tr>\n",
       "  <th>t1__x0_tata sumo</th>           <td>-4.193e+05</td> <td> 5.74e+04</td> <td>   -7.301</td> <td> 0.000</td> <td>-5.32e+05</td> <td>-3.06e+05</td>\n",
       "</tr>\n",
       "<tr>\n",
       "  <th>t1__x0_tata tiago</th>          <td>-3.112e+05</td> <td> 9.51e+04</td> <td>   -3.273</td> <td> 0.001</td> <td>-4.98e+05</td> <td>-1.24e+05</td>\n",
       "</tr>\n",
       "<tr>\n",
       "  <th>t1__x0_tata zest</th>           <td>-5.018e+05</td> <td>  8.1e+04</td> <td>   -6.194</td> <td> 0.000</td> <td>-6.61e+05</td> <td>-3.43e+05</td>\n",
       "</tr>\n",
       "<tr>\n",
       "  <th>t1__x0_toyota corolla</th>      <td>-9.046e+05</td> <td> 6.03e+04</td> <td>  -15.003</td> <td> 0.000</td> <td>-1.02e+06</td> <td>-7.86e+05</td>\n",
       "</tr>\n",
       "<tr>\n",
       "  <th>t1__x0_toyota etios</th>        <td>-1.031e+06</td> <td> 6.76e+04</td> <td>  -15.252</td> <td> 0.000</td> <td>-1.16e+06</td> <td>-8.99e+05</td>\n",
       "</tr>\n",
       "<tr>\n",
       "  <th>t1__x0_toyota fortuner</th>     <td>-6.384e+04</td> <td> 7.84e+04</td> <td>   -0.814</td> <td> 0.416</td> <td>-2.18e+05</td> <td> 9.03e+04</td>\n",
       "</tr>\n",
       "<tr>\n",
       "  <th>t1__x0_toyota innova</th>       <td>-6.262e+05</td> <td> 6.77e+04</td> <td>   -9.248</td> <td> 0.000</td> <td>-7.59e+05</td> <td>-4.93e+05</td>\n",
       "</tr>\n",
       "<tr>\n",
       "  <th>t1__x0_volkswagen polo</th>     <td>-1.281e+06</td> <td> 1.02e+05</td> <td>  -12.605</td> <td> 0.000</td> <td>-1.48e+06</td> <td>-1.08e+06</td>\n",
       "</tr>\n",
       "<tr>\n",
       "  <th>t1__x0_volkswagen vento</th>    <td>-1.124e+06</td> <td> 9.36e+04</td> <td>  -12.008</td> <td> 0.000</td> <td>-1.31e+06</td> <td> -9.4e+05</td>\n",
       "</tr>\n",
       "<tr>\n",
       "  <th>t1__x1_audi</th>                <td>-1.352e+06</td> <td> 1.27e+05</td> <td>  -10.660</td> <td> 0.000</td> <td> -1.6e+06</td> <td> -1.1e+06</td>\n",
       "</tr>\n",
       "<tr>\n",
       "  <th>t1__x1_bmw</th>                 <td>-1.467e+06</td> <td> 1.31e+05</td> <td>  -11.210</td> <td> 0.000</td> <td>-1.72e+06</td> <td>-1.21e+06</td>\n",
       "</tr>\n",
       "<tr>\n",
       "  <th>t1__x1_chevrolet</th>           <td>-2.949e+06</td> <td>    2e+05</td> <td>  -14.756</td> <td> 0.000</td> <td>-3.34e+06</td> <td>-2.56e+06</td>\n",
       "</tr>\n",
       "<tr>\n",
       "  <th>t1__x1_datsun</th>              <td>-1.906e+06</td> <td> 1.32e+05</td> <td>  -14.421</td> <td> 0.000</td> <td>-2.17e+06</td> <td>-1.65e+06</td>\n",
       "</tr>\n",
       "<tr>\n",
       "  <th>t1__x1_ford</th>                <td>-2.713e+06</td> <td> 1.86e+05</td> <td>  -14.555</td> <td> 0.000</td> <td>-3.08e+06</td> <td>-2.35e+06</td>\n",
       "</tr>\n",
       "<tr>\n",
       "  <th>t1__x1_honda</th>               <td>-2.725e+06</td> <td>  1.9e+05</td> <td>  -14.332</td> <td> 0.000</td> <td> -3.1e+06</td> <td>-2.35e+06</td>\n",
       "</tr>\n",
       "<tr>\n",
       "  <th>t1__x1_hyundai</th>             <td>-3.282e+06</td> <td> 2.28e+05</td> <td>  -14.367</td> <td> 0.000</td> <td>-3.73e+06</td> <td>-2.83e+06</td>\n",
       "</tr>\n",
       "<tr>\n",
       "  <th>t1__x1_mahindra</th>            <td>-3.134e+06</td> <td> 2.24e+05</td> <td>  -14.016</td> <td> 0.000</td> <td>-3.57e+06</td> <td>-2.69e+06</td>\n",
       "</tr>\n",
       "<tr>\n",
       "  <th>t1__x1_maruti</th>              <td>-3.387e+06</td> <td> 2.32e+05</td> <td>  -14.595</td> <td> 0.000</td> <td>-3.84e+06</td> <td>-2.93e+06</td>\n",
       "</tr>\n",
       "<tr>\n",
       "  <th>t1__x1_mercedes</th>            <td>-1.363e+06</td> <td> 1.24e+05</td> <td>  -10.980</td> <td> 0.000</td> <td>-1.61e+06</td> <td>-1.12e+06</td>\n",
       "</tr>\n",
       "<tr>\n",
       "  <th>t1__x1_mini</th>                <td> -1.03e+06</td> <td> 1.28e+05</td> <td>   -8.036</td> <td> 0.000</td> <td>-1.28e+06</td> <td>-7.78e+05</td>\n",
       "</tr>\n",
       "<tr>\n",
       "  <th>t1__x1_mitsubishi</th>          <td>-1.224e+06</td> <td> 1.32e+05</td> <td>   -9.266</td> <td> 0.000</td> <td>-1.48e+06</td> <td>-9.64e+05</td>\n",
       "</tr>\n",
       "<tr>\n",
       "  <th>t1__x1_renault</th>             <td> -2.73e+06</td> <td> 1.91e+05</td> <td>  -14.290</td> <td> 0.000</td> <td> -3.1e+06</td> <td>-2.35e+06</td>\n",
       "</tr>\n",
       "<tr>\n",
       "  <th>t1__x1_skoda</th>               <td> -1.86e+06</td> <td> 1.27e+05</td> <td>  -14.677</td> <td> 0.000</td> <td>-2.11e+06</td> <td>-1.61e+06</td>\n",
       "</tr>\n",
       "<tr>\n",
       "  <th>t1__x1_tata</th>                <td>-3.295e+06</td> <td> 2.22e+05</td> <td>  -14.866</td> <td> 0.000</td> <td>-3.73e+06</td> <td>-2.86e+06</td>\n",
       "</tr>\n",
       "<tr>\n",
       "  <th>t1__x1_toyota</th>              <td>-2.626e+06</td> <td> 1.99e+05</td> <td>  -13.198</td> <td> 0.000</td> <td>-3.02e+06</td> <td>-2.24e+06</td>\n",
       "</tr>\n",
       "<tr>\n",
       "  <th>t1__x1_volkswagen</th>          <td>-2.405e+06</td> <td>  1.7e+05</td> <td>  -14.142</td> <td> 0.000</td> <td>-2.74e+06</td> <td>-2.07e+06</td>\n",
       "</tr>\n",
       "<tr>\n",
       "  <th>t1__x2_Diesel</th>              <td> -1.31e+07</td> <td> 9.63e+05</td> <td>  -13.605</td> <td> 0.000</td> <td> -1.5e+07</td> <td>-1.12e+07</td>\n",
       "</tr>\n",
       "<tr>\n",
       "  <th>t1__x2_LPG</th>                 <td>-1.319e+07</td> <td> 9.78e+05</td> <td>  -13.494</td> <td> 0.000</td> <td>-1.51e+07</td> <td>-1.13e+07</td>\n",
       "</tr>\n",
       "<tr>\n",
       "  <th>t1__x2_Petrol</th>              <td>-1.315e+07</td> <td>  9.6e+05</td> <td>  -13.694</td> <td> 0.000</td> <td> -1.5e+07</td> <td>-1.13e+07</td>\n",
       "</tr>\n",
       "<tr>\n",
       "  <th>year</th>                       <td> 2.809e+04</td> <td> 2037.311</td> <td>   13.789</td> <td> 0.000</td> <td> 2.41e+04</td> <td> 3.21e+04</td>\n",
       "</tr>\n",
       "<tr>\n",
       "  <th>kms_driven</th>                 <td>   -0.3750</td> <td>    0.230</td> <td>   -1.629</td> <td> 0.104</td> <td>   -0.827</td> <td>    0.077</td>\n",
       "</tr>\n",
       "</table>\n",
       "<table class=\"simpletable\">\n",
       "<tr>\n",
       "  <th>Omnibus:</th>       <td>86.771</td> <th>  Durbin-Watson:     </th> <td>   1.940</td> \n",
       "</tr>\n",
       "<tr>\n",
       "  <th>Prob(Omnibus):</th> <td> 0.000</td> <th>  Jarque-Bera (JB):  </th> <td> 503.603</td> \n",
       "</tr>\n",
       "<tr>\n",
       "  <th>Skew:</th>          <td> 0.483</td> <th>  Prob(JB):          </th> <td>4.41e-110</td>\n",
       "</tr>\n",
       "<tr>\n",
       "  <th>Kurtosis:</th>      <td> 7.437</td> <th>  Cond. No.          </th> <td>7.94e+17</td> \n",
       "</tr>\n",
       "</table><br/><br/>Notes:<br/>[1] Standard Errors assume that the covariance matrix of the errors is correctly specified.<br/>[2] The smallest eigenvalue is 3.06e-24. This might indicate that there are<br/>strong multicollinearity problems or that the design matrix is singular."
      ],
      "text/plain": [
       "<class 'statsmodels.iolib.summary.Summary'>\n",
       "\"\"\"\n",
       "                            OLS Regression Results                            \n",
       "==============================================================================\n",
       "Dep. Variable:                      y   R-squared:                       0.841\n",
       "Model:                            OLS   Adj. R-squared:                  0.820\n",
       "Method:                 Least Squares   F-statistic:                     38.43\n",
       "Date:                Sat, 26 Nov 2022   Prob (F-statistic):          5.47e-164\n",
       "Time:                        11:01:50   Log-Likelihood:                -7717.1\n",
       "No. Observations:                 586   AIC:                         1.558e+04\n",
       "Df Residuals:                     514   BIC:                         1.589e+04\n",
       "Df Model:                          71                                         \n",
       "Covariance Type:            nonrobust                                         \n",
       "==============================================================================================\n",
       "                                 coef    std err          t      P>|t|      [0.025      0.975]\n",
       "----------------------------------------------------------------------------------------------\n",
       "const                      -3.945e+07   2.89e+06    -13.633      0.000   -4.51e+07   -3.38e+07\n",
       "t1__x0_audi a4             -1.352e+06   1.27e+05    -10.660      0.000    -1.6e+06    -1.1e+06\n",
       "t1__x0_bmw x1              -1.467e+06   1.31e+05    -11.210      0.000   -1.72e+06   -1.21e+06\n",
       "t1__x0_chevrolet beat      -8.705e+05   6.94e+04    -12.547      0.000   -1.01e+06   -7.34e+05\n",
       "t1__x0_chevrolet sail      -6.969e+05   1.23e+05     -5.685      0.000   -9.38e+05   -4.56e+05\n",
       "t1__x0_chevrolet spark     -8.093e+05   7.98e+04    -10.139      0.000   -9.66e+05   -6.53e+05\n",
       "t1__x0_chevrolet tavera    -5.719e+05    8.3e+04     -6.894      0.000   -7.35e+05   -4.09e+05\n",
       "t1__x0_datsun redi         -1.906e+06   1.32e+05    -14.421      0.000   -2.17e+06   -1.65e+06\n",
       "t1__x0_ford ecosport       -7.268e+05      8e+04     -9.091      0.000   -8.84e+05    -5.7e+05\n",
       "t1__x0_ford figo           -1.049e+06   8.55e+04    -12.272      0.000   -1.22e+06   -8.81e+05\n",
       "t1__x0_ford ikon           -9.367e+05   9.09e+04    -10.307      0.000   -1.12e+06   -7.58e+05\n",
       "t1__x0_honda amaze         -9.655e+05   7.81e+04    -12.363      0.000   -1.12e+06   -8.12e+05\n",
       "t1__x0_honda brio           -9.67e+05   1.19e+05     -8.154      0.000    -1.2e+06   -7.34e+05\n",
       "t1__x0_honda city          -7.921e+05   7.34e+04    -10.798      0.000   -9.36e+05   -6.48e+05\n",
       "t1__x0_hyundai accent      -4.049e+05    7.4e+04     -5.472      0.000    -5.5e+05    -2.6e+05\n",
       "t1__x0_hyundai creta        2.087e+05   6.43e+04      3.246      0.001    8.24e+04    3.35e+05\n",
       "t1__x0_hyundai elite       -2.638e+05   4.82e+04     -5.472      0.000   -3.59e+05   -1.69e+05\n",
       "t1__x0_hyundai eon         -5.136e+05    4.4e+04    -11.675      0.000      -6e+05   -4.27e+05\n",
       "t1__x0_hyundai fluidic     -2.572e+05    7.8e+04     -3.297      0.001    -4.1e+05   -1.04e+05\n",
       "t1__x0_hyundai getz        -3.962e+05   6.48e+04     -6.111      0.000   -5.24e+05   -2.69e+05\n",
       "t1__x0_hyundai grand       -3.514e+05    4.6e+04     -7.641      0.000   -4.42e+05   -2.61e+05\n",
       "t1__x0_hyundai i10         -3.548e+05   4.57e+04     -7.763      0.000   -4.45e+05   -2.65e+05\n",
       "t1__x0_hyundai i20         -3.536e+05   3.81e+04     -9.292      0.000   -4.28e+05   -2.79e+05\n",
       "t1__x0_hyundai santro      -3.529e+05   3.67e+04     -9.609      0.000   -4.25e+05   -2.81e+05\n",
       "t1__x0_hyundai verna       -2.427e+05   4.78e+04     -5.077      0.000   -3.37e+05   -1.49e+05\n",
       "t1__x0_mahindra bolero     -6.007e+05   6.37e+04     -9.434      0.000   -7.26e+05   -4.76e+05\n",
       "t1__x0_mahindra jeep       -5.054e+05   5.11e+04     -9.884      0.000   -6.06e+05   -4.05e+05\n",
       "t1__x0_mahindra kuv100     -5.003e+05   7.15e+04     -6.994      0.000   -6.41e+05    -3.6e+05\n",
       "t1__x0_mahindra quanto     -4.882e+05   6.69e+04     -7.297      0.000    -6.2e+05   -3.57e+05\n",
       "t1__x0_mahindra scorpio    -2.933e+05   3.76e+04     -7.795      0.000   -3.67e+05   -2.19e+05\n",
       "t1__x0_mahindra tuv300     -2.573e+05   7.01e+04     -3.672      0.000   -3.95e+05    -1.2e+05\n",
       "t1__x0_mahindra xuv500      -6.47e+04   4.95e+04     -1.307      0.192   -1.62e+05    3.25e+04\n",
       "t1__x0_mahindra xylo       -4.237e+05   5.28e+04     -8.019      0.000   -5.28e+05    -3.2e+05\n",
       "t1__x0_marutisuzuki alto   -3.695e+05   3.34e+04    -11.078      0.000   -4.35e+05   -3.04e+05\n",
       "t1__x0_marutisuzuki baleno -1.306e+05   7.03e+04     -1.859      0.064   -2.69e+05    7433.459\n",
       "t1__x0_marutisuzuki ciaz    2.871e+04   7.92e+04      0.363      0.717   -1.27e+05    1.84e+05\n",
       "t1__x0_marutisuzuki dzire  -2.314e+05   4.87e+04     -4.751      0.000   -3.27e+05   -1.36e+05\n",
       "t1__x0_marutisuzuki eeco   -3.516e+05   6.94e+04     -5.064      0.000   -4.88e+05   -2.15e+05\n",
       "t1__x0_marutisuzuki ertiga -3.106e+04   4.28e+04     -0.725      0.469   -1.15e+05    5.31e+04\n",
       "t1__x0_marutisuzuki esteem  -2.86e+05   9.15e+04     -3.127      0.002   -4.66e+05   -1.06e+05\n",
       "t1__x0_marutisuzuki maruti -1.113e+05   9.17e+04     -1.214      0.225   -2.91e+05    6.88e+04\n",
       "t1__x0_marutisuzuki omni   -3.158e+05   5.53e+04     -5.708      0.000   -4.24e+05   -2.07e+05\n",
       "t1__x0_marutisuzuki ritz   -2.689e+05   5.65e+04     -4.758      0.000    -3.8e+05   -1.58e+05\n",
       "t1__x0_marutisuzuki swift  -2.763e+05   3.07e+04     -8.999      0.000   -3.37e+05   -2.16e+05\n",
       "t1__x0_marutisuzuki sx4    -1.504e+05   6.12e+04     -2.458      0.014   -2.71e+05   -3.02e+04\n",
       "t1__x0_marutisuzuki versa  -2.108e+05   7.51e+04     -2.809      0.005   -3.58e+05   -6.34e+04\n",
       "t1__x0_marutisuzuki vitara -1.261e+05   7.06e+04     -1.787      0.074   -2.65e+05    1.25e+04\n",
       "t1__x0_marutisuzuki wagon  -3.302e+05   3.35e+04     -9.869      0.000   -3.96e+05   -2.64e+05\n",
       "t1__x0_marutisuzuki zen    -2.255e+05   4.52e+04     -4.988      0.000   -3.14e+05   -1.37e+05\n",
       "t1__x0_mercedes benz       -1.363e+06   1.24e+05    -10.980      0.000   -1.61e+06   -1.12e+06\n",
       "t1__x0_mini cooper          -1.03e+06   1.28e+05     -8.036      0.000   -1.28e+06   -7.78e+05\n",
       "t1__x0_mitsubishi pajero   -1.224e+06   1.32e+05     -9.266      0.000   -1.48e+06   -9.64e+05\n",
       "t1__x0_renault duster      -7.675e+05   6.89e+04    -11.147      0.000   -9.03e+05   -6.32e+05\n",
       "t1__x0_renault kwid        -1.021e+06   8.36e+04    -12.221      0.000   -1.19e+06   -8.57e+05\n",
       "t1__x0_renault scala       -9.409e+05   8.66e+04    -10.864      0.000   -1.11e+06   -7.71e+05\n",
       "t1__x0_skoda fabia          -1.86e+06   1.27e+05    -14.677      0.000   -2.11e+06   -1.61e+06\n",
       "t1__x0_tata indica         -4.699e+05   4.63e+04    -10.142      0.000   -5.61e+05   -3.79e+05\n",
       "t1__x0_tata indigo         -5.203e+05      5e+04    -10.407      0.000   -6.18e+05   -4.22e+05\n",
       "t1__x0_tata manza          -5.073e+05   7.09e+04     -7.156      0.000   -6.47e+05   -3.68e+05\n",
       "t1__x0_tata nano           -5.654e+05   6.01e+04     -9.407      0.000   -6.83e+05   -4.47e+05\n",
       "t1__x0_tata sumo           -4.193e+05   5.74e+04     -7.301      0.000   -5.32e+05   -3.06e+05\n",
       "t1__x0_tata tiago          -3.112e+05   9.51e+04     -3.273      0.001   -4.98e+05   -1.24e+05\n",
       "t1__x0_tata zest           -5.018e+05    8.1e+04     -6.194      0.000   -6.61e+05   -3.43e+05\n",
       "t1__x0_toyota corolla      -9.046e+05   6.03e+04    -15.003      0.000   -1.02e+06   -7.86e+05\n",
       "t1__x0_toyota etios        -1.031e+06   6.76e+04    -15.252      0.000   -1.16e+06   -8.99e+05\n",
       "t1__x0_toyota fortuner     -6.384e+04   7.84e+04     -0.814      0.416   -2.18e+05    9.03e+04\n",
       "t1__x0_toyota innova       -6.262e+05   6.77e+04     -9.248      0.000   -7.59e+05   -4.93e+05\n",
       "t1__x0_volkswagen polo     -1.281e+06   1.02e+05    -12.605      0.000   -1.48e+06   -1.08e+06\n",
       "t1__x0_volkswagen vento    -1.124e+06   9.36e+04    -12.008      0.000   -1.31e+06    -9.4e+05\n",
       "t1__x1_audi                -1.352e+06   1.27e+05    -10.660      0.000    -1.6e+06    -1.1e+06\n",
       "t1__x1_bmw                 -1.467e+06   1.31e+05    -11.210      0.000   -1.72e+06   -1.21e+06\n",
       "t1__x1_chevrolet           -2.949e+06      2e+05    -14.756      0.000   -3.34e+06   -2.56e+06\n",
       "t1__x1_datsun              -1.906e+06   1.32e+05    -14.421      0.000   -2.17e+06   -1.65e+06\n",
       "t1__x1_ford                -2.713e+06   1.86e+05    -14.555      0.000   -3.08e+06   -2.35e+06\n",
       "t1__x1_honda               -2.725e+06    1.9e+05    -14.332      0.000    -3.1e+06   -2.35e+06\n",
       "t1__x1_hyundai             -3.282e+06   2.28e+05    -14.367      0.000   -3.73e+06   -2.83e+06\n",
       "t1__x1_mahindra            -3.134e+06   2.24e+05    -14.016      0.000   -3.57e+06   -2.69e+06\n",
       "t1__x1_maruti              -3.387e+06   2.32e+05    -14.595      0.000   -3.84e+06   -2.93e+06\n",
       "t1__x1_mercedes            -1.363e+06   1.24e+05    -10.980      0.000   -1.61e+06   -1.12e+06\n",
       "t1__x1_mini                 -1.03e+06   1.28e+05     -8.036      0.000   -1.28e+06   -7.78e+05\n",
       "t1__x1_mitsubishi          -1.224e+06   1.32e+05     -9.266      0.000   -1.48e+06   -9.64e+05\n",
       "t1__x1_renault              -2.73e+06   1.91e+05    -14.290      0.000    -3.1e+06   -2.35e+06\n",
       "t1__x1_skoda                -1.86e+06   1.27e+05    -14.677      0.000   -2.11e+06   -1.61e+06\n",
       "t1__x1_tata                -3.295e+06   2.22e+05    -14.866      0.000   -3.73e+06   -2.86e+06\n",
       "t1__x1_toyota              -2.626e+06   1.99e+05    -13.198      0.000   -3.02e+06   -2.24e+06\n",
       "t1__x1_volkswagen          -2.405e+06    1.7e+05    -14.142      0.000   -2.74e+06   -2.07e+06\n",
       "t1__x2_Diesel               -1.31e+07   9.63e+05    -13.605      0.000    -1.5e+07   -1.12e+07\n",
       "t1__x2_LPG                 -1.319e+07   9.78e+05    -13.494      0.000   -1.51e+07   -1.13e+07\n",
       "t1__x2_Petrol              -1.315e+07    9.6e+05    -13.694      0.000    -1.5e+07   -1.13e+07\n",
       "year                        2.809e+04   2037.311     13.789      0.000    2.41e+04    3.21e+04\n",
       "kms_driven                    -0.3750      0.230     -1.629      0.104      -0.827       0.077\n",
       "==============================================================================\n",
       "Omnibus:                       86.771   Durbin-Watson:                   1.940\n",
       "Prob(Omnibus):                  0.000   Jarque-Bera (JB):              503.603\n",
       "Skew:                           0.483   Prob(JB):                    4.41e-110\n",
       "Kurtosis:                       7.437   Cond. No.                     7.94e+17\n",
       "==============================================================================\n",
       "\n",
       "Notes:\n",
       "[1] Standard Errors assume that the covariance matrix of the errors is correctly specified.\n",
       "[2] The smallest eigenvalue is 3.06e-24. This might indicate that there are\n",
       "strong multicollinearity problems or that the design matrix is singular.\n",
       "\"\"\""
      ]
     },
     "execution_count": 605,
     "metadata": {},
     "output_type": "execute_result"
    }
   ],
   "source": [
    "x = sm.add_constant(df1)\n",
    "lr1 = sm.OLS(y, x.astype(float)).fit()\n",
    "lr1.summary()\n"
   ]
  },
  {
   "cell_type": "code",
   "execution_count": 567,
   "id": "b3b48176",
   "metadata": {},
   "outputs": [
    {
     "data": {
      "text/plain": [
       "<matplotlib.collections.LineCollection at 0x1b38e032040>"
      ]
     },
     "execution_count": 567,
     "metadata": {},
     "output_type": "execute_result"
    },
    {
     "data": {
      "image/png": "[encoded data removed]",
      "text/plain": [
       "<Figure size 432x288 with 1 Axes>"
      ]
     },
     "metadata": {
      "needs_background": "light"
     },
     "output_type": "display_data"
    }
   ],
   "source": [
    "plt.plot( range(0,147),pred_test,'*')\n",
    "plt.hlines(test_y.mean(),0,200)"
   ]
  },
  {
   "cell_type": "code",
   "execution_count": 569,
   "id": "719902cb",
   "metadata": {},
   "outputs": [
    {
     "data": {
      "text/plain": [
       "<matplotlib.collections.LineCollection at 0x1b3913eb730>"
      ]
     },
     "execution_count": 569,
     "metadata": {},
     "output_type": "execute_result"
    },
    {
     "data": {
      "image/png": "[encoded data removed]",
      "text/plain": [
       "<Figure size 432x288 with 1 Axes>"
      ]
     },
     "metadata": {
      "needs_background": "light"
     },
     "output_type": "display_data"
    }
   ],
   "source": [
    "plt.plot(range(0,147),test_y,'*')\n",
    "plt.hlines(test_y.mean(),0,200)"
   ]
  },
  {
   "cell_type": "code",
   "execution_count": null,
   "id": "5bd96aa0",
   "metadata": {},
   "outputs": [],
   "source": []
  },
  {
   "cell_type": "code",
   "execution_count": 646,
   "id": "306fafae",
   "metadata": {},
   "outputs": [
    {
     "data": {
      "text/plain": [
       "array([1445189.1607666])"
      ]
     },
     "execution_count": 646,
     "metadata": {},
     "output_type": "execute_result"
    }
   ],
   "source": [
    "# Since we have used pipeline to build our model, we can directly predict the price by passing the values directly\n",
    "\n",
    "pipe.predict(pd.DataFrame(columns=test_x.columns, data = np.array(['marutisuzuki swift',' ','2018','22000','Diesel']).reshape(1,5)))"
   ]
  },
  {
   "cell_type": "code",
   "execution_count": 636,
   "id": "63815abd",
   "metadata": {},
   "outputs": [
    {
     "name": "stdout",
     "output_type": "stream",
     "text": [
      "R2 score for the model is : 0.9380131348511307\n",
      "adjusted r2 score for the model is : 0.9267427957331544\n",
      "Since there is very less difference between r2 score and adjusted r2 score, we can say that model is not overfitted\n",
      "*******************************************************************************************************************************\n",
      "mean absolute percentage error is : 25.883669956462917%\n",
      "mean absolute error is : 63660.95327613467\n",
      "by using the random state, we are able to achieve these statistics which are best that can be achieved\n",
      "*******************************************************************************************************************************\n",
      "R2 score for the model (test) is : 0.9380131348511307\n",
      "R2 score for the model (train) is : 0.8414817924596669\n",
      "these statistics also show that model is not overfitted\n"
     ]
    }
   ],
   "source": [
    "# we have built the model, lets check the result\n",
    "\n",
    "print('R2 score for the model is : ' + str(r2_score(test_y, pred_test)))\n",
    "print('adjusted r2 score for the model is : '+str(adjusted_r2))\n",
    "print('Since there is very less difference between r2 score and adjusted r2 score, we can say that model is not overfitted')\n",
    "print('*'*127)\n",
    "print('mean absolute percentage error is : '+str(mean_absolute_percentage_error(test_y, pred_test)*100)+'%')\n",
    "print('mean absolute error is : '+str(mean_absolute_error(test_y, pred_test)))\n",
    "print('by using the random state, we are able to achieve these statistics which are best that can be achieved')\n",
    "print('*'*127)\n",
    "print('R2 score for the model (test) is : ' + str(r2_score(test_y, pred_test)))\n",
    "print('R2 score for the model (train) is : ' + str(r2_score(train_y, pred_train)))\n",
    "print('these statistics also show that model is not overfitted')"
   ]
  },
  {
   "cell_type": "code",
   "execution_count": 640,
   "id": "0e2696f4",
   "metadata": {},
   "outputs": [
    {
     "data": {
      "text/plain": [
       "Index(['marutisuzuki swift', 'marutisuzuki alto', 'mahindra scorpio',\n",
       "       'honda city', 'marutisuzuki wagon', 'hyundai i20', 'tata indigo',\n",
       "       'renault duster', 'hyundai santro', 'honda amaze', 'chevrolet beat',\n",
       "       'hyundai eon', 'marutisuzuki ertiga', 'hyundai grand', 'hyundai elite',\n",
       "       'hyundai verna', 'ford ecosport', 'marutisuzuki dzire',\n",
       "       'marutisuzuki zen', 'mahindra xuv500', 'toyota corolla', 'tata indica',\n",
       "       'hyundai i10', 'mahindra jeep', 'volkswagen polo', 'toyota etios',\n",
       "       'marutisuzuki omni', 'mahindra xylo', 'tata sumo', 'mini cooper',\n",
       "       'marutisuzuki ritz', 'ford figo', 'toyota innova', 'renault kwid',\n",
       "       'skoda fabia', 'mahindra quanto', 'mahindra tuv300', 'tata zest',\n",
       "       'mahindra bolero', 'volkswagen vento', 'chevrolet spark', 'tata nano',\n",
       "       'mercedes benz', 'mahindra kuv100', 'audi a4', 'hyundai creta',\n",
       "       'toyota fortuner', 'hyundai getz', 'marutisuzuki eeco',\n",
       "       'mitsubishi pajero', 'marutisuzuki sx4', 'datsun redi',\n",
       "       'marutisuzuki baleno', 'honda brio', 'chevrolet tavera',\n",
       "       'hyundai accent', 'tata manza', 'marutisuzuki vitara', 'bmw x1',\n",
       "       'marutisuzuki versa', 'ford ikon', 'marutisuzuki esteem',\n",
       "       'chevrolet sail', 'marutisuzuki maruti', 'renault scala',\n",
       "       'marutisuzuki ciaz', 'hyundai fluidic', 'tata tiago'],\n",
       "      dtype='object')"
      ]
     },
     "execution_count": 640,
     "metadata": {},
     "output_type": "execute_result"
    }
   ],
   "source": [
    "data1['name'].value_counts().index"
   ]
  },
  {
   "cell_type": "code",
   "execution_count": 643,
   "id": "df02037f",
   "metadata": {},
   "outputs": [],
   "source": [
    "data1.to_csv('C:/Users/ASUS/Desktop/python_datasets/imarticus/Pranjal_Sir/Cleaned_Car_Pred.csv')"
   ]
  },
  {
   "cell_type": "code",
   "execution_count": null,
   "id": "5daf0276",
   "metadata": {},
   "outputs": [],
   "source": []
  }
 ],
 "metadata": {
  "kernelspec": {
   "display_name": "Python 3 (ipykernel)",
   "language": "python",
   "name": "python3"
  },
  "language_info": {
   "codemirror_mode": {
    "name": "ipython",
    "version": 3
   },
   "file_extension": ".py",
   "mimetype": "text/x-python",
   "name": "python",
   "nbconvert_exporter": "python",
   "pygments_lexer": "ipython3",
   "version": "3.9.7"
  }
 },
 "nbformat": 4,
 "nbformat_minor": 5
}
