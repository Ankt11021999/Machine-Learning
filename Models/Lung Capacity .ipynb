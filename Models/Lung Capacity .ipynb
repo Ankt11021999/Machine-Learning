{
 "cells": [
  {
   "cell_type": "code",
   "execution_count": 1,
   "metadata": {
    "_cell_guid": "b1076dfc-b9ad-4769-8c92-a6c4dae69d19",
    "_uuid": "8f2839f25d086af736a60e9eeb907d3b93b6e0e5",
    "execution": {
     "iopub.execute_input": "2022-09-24T12:57:19.600046Z",
     "iopub.status.busy": "2022-09-24T12:57:19.599601Z",
     "iopub.status.idle": "2022-09-24T12:57:19.636362Z",
     "shell.execute_reply": "2022-09-24T12:57:19.634457Z",
     "shell.execute_reply.started": "2022-09-24T12:57:19.599953Z"
    }
   },
   "outputs": [
    {
     "name": "stdout",
     "output_type": "stream",
     "text": [
      "/kaggle/input/lung-capacity/LungCap.xls\n"
     ]
    }
   ],
   "source": [
    "# This Python 3 environment comes with many helpful analytics libraries installed\n",
    "# It is defined by the kaggle/python Docker image: https://github.com/kaggle/docker-python\n",
    "# For example, here's several helpful packages to load\n",
    "\n",
    "import numpy as np # linear algebra\n",
    "import pandas as pd # data processing, CSV file I/O (e.g. pd.read_csv)\n",
    "\n",
    "# Input data files are available in the read-only \"../input/\" directory\n",
    "# For example, running this (by clicking run or pressing Shift+Enter) will list all files under the input directory\n",
    "\n",
    "import os\n",
    "for dirname, _, filenames in os.walk('/kaggle/input'):\n",
    "    for filename in filenames:\n",
    "        print(os.path.join(dirname, filename))\n",
    "\n",
    "# You can write up to 20GB to the current directory (/kaggle/working/) that gets preserved as output when you create a version using \"Save & Run All\" \n",
    "# You can also write temporary files to /kaggle/temp/, but they won't be saved outside of the current session"
   ]
  },
  {
   "cell_type": "code",
   "execution_count": 2,
   "metadata": {
    "execution": {
     "iopub.execute_input": "2022-09-24T14:02:01.534398Z",
     "iopub.status.busy": "2022-09-24T14:02:01.534000Z",
     "iopub.status.idle": "2022-09-24T14:02:02.134456Z",
     "shell.execute_reply": "2022-09-24T14:02:02.133364Z",
     "shell.execute_reply.started": "2022-09-24T14:02:01.534365Z"
    }
   },
   "outputs": [],
   "source": [
    "import pandas as pd\n",
    "import numpy as np\n",
    "import matplotlib.pyplot as plt\n",
    "import seaborn as sns"
   ]
  },
  {
   "cell_type": "code",
   "execution_count": 4,
   "metadata": {
    "execution": {
     "iopub.execute_input": "2022-09-24T14:02:11.839858Z",
     "iopub.status.busy": "2022-09-24T14:02:11.839458Z",
     "iopub.status.idle": "2022-09-24T14:02:25.847251Z",
     "shell.execute_reply": "2022-09-24T14:02:25.845992Z",
     "shell.execute_reply.started": "2022-09-24T14:02:11.839823Z"
    }
   },
   "outputs": [
    {
     "name": "stdout",
     "output_type": "stream",
     "text": [
      "Collecting xlrd\n",
      "  Downloading xlrd-2.0.1-py2.py3-none-any.whl (96 kB)\n",
      "\u001b[2K     \u001b[90m━━━━━━━━━━━━━━━━━━━━━━━━━━━━━━━━━━━━━━━\u001b[0m \u001b[32m96.5/96.5 kB\u001b[0m \u001b[31m312.5 kB/s\u001b[0m eta \u001b[36m0:00:00\u001b[0ma \u001b[36m0:00:01\u001b[0m\n",
      "\u001b[?25hInstalling collected packages: xlrd\n",
      "Successfully installed xlrd-2.0.1\n",
      "\u001b[33mWARNING: Running pip as the 'root' user can result in broken permissions and conflicting behaviour with the system package manager. It is recommended to use a virtual environment instead: https://pip.pypa.io/warnings/venv\u001b[0m\u001b[33m\n",
      "\u001b[0m"
     ]
    }
   ],
   "source": [
    "!pip install xlrd"
   ]
  },
  {
   "cell_type": "code",
   "execution_count": 5,
   "metadata": {
    "execution": {
     "iopub.execute_input": "2022-09-24T14:02:27.677137Z",
     "iopub.status.busy": "2022-09-24T14:02:27.676672Z",
     "iopub.status.idle": "2022-09-24T14:02:27.728912Z",
     "shell.execute_reply": "2022-09-24T14:02:27.728050Z",
     "shell.execute_reply.started": "2022-09-24T14:02:27.677091Z"
    }
   },
   "outputs": [],
   "source": [
    "data = pd.read_excel('/kaggle/input/lung-capacity/LungCap.xls')"
   ]
  },
  {
   "cell_type": "code",
   "execution_count": 6,
   "metadata": {
    "execution": {
     "iopub.execute_input": "2022-09-24T14:02:30.049884Z",
     "iopub.status.busy": "2022-09-24T14:02:30.049193Z",
     "iopub.status.idle": "2022-09-24T14:02:30.072560Z",
     "shell.execute_reply": "2022-09-24T14:02:30.071410Z",
     "shell.execute_reply.started": "2022-09-24T14:02:30.049845Z"
    }
   },
   "outputs": [
    {
     "data": {
      "text/html": [
       "<div>\n",
       "<style scoped>\n",
       "    .dataframe tbody tr th:only-of-type {\n",
       "        vertical-align: middle;\n",
       "    }\n",
       "\n",
       "    .dataframe tbody tr th {\n",
       "        vertical-align: top;\n",
       "    }\n",
       "\n",
       "    .dataframe thead th {\n",
       "        text-align: right;\n",
       "    }\n",
       "</style>\n",
       "<table border=\"1\" class=\"dataframe\">\n",
       "  <thead>\n",
       "    <tr style=\"text-align: right;\">\n",
       "      <th></th>\n",
       "      <th>LungCap(cc)</th>\n",
       "      <th>Age( years)</th>\n",
       "      <th>Height(inches)</th>\n",
       "      <th>Smoke</th>\n",
       "      <th>Gender</th>\n",
       "      <th>Caesarean</th>\n",
       "    </tr>\n",
       "  </thead>\n",
       "  <tbody>\n",
       "    <tr>\n",
       "      <th>0</th>\n",
       "      <td>6.475</td>\n",
       "      <td>6</td>\n",
       "      <td>62.1</td>\n",
       "      <td>no</td>\n",
       "      <td>male</td>\n",
       "      <td>no</td>\n",
       "    </tr>\n",
       "    <tr>\n",
       "      <th>1</th>\n",
       "      <td>10.125</td>\n",
       "      <td>18</td>\n",
       "      <td>74.7</td>\n",
       "      <td>yes</td>\n",
       "      <td>female</td>\n",
       "      <td>no</td>\n",
       "    </tr>\n",
       "    <tr>\n",
       "      <th>2</th>\n",
       "      <td>9.550</td>\n",
       "      <td>16</td>\n",
       "      <td>69.7</td>\n",
       "      <td>no</td>\n",
       "      <td>female</td>\n",
       "      <td>yes</td>\n",
       "    </tr>\n",
       "    <tr>\n",
       "      <th>3</th>\n",
       "      <td>11.125</td>\n",
       "      <td>14</td>\n",
       "      <td>71.0</td>\n",
       "      <td>no</td>\n",
       "      <td>male</td>\n",
       "      <td>no</td>\n",
       "    </tr>\n",
       "    <tr>\n",
       "      <th>4</th>\n",
       "      <td>4.800</td>\n",
       "      <td>5</td>\n",
       "      <td>56.9</td>\n",
       "      <td>no</td>\n",
       "      <td>male</td>\n",
       "      <td>no</td>\n",
       "    </tr>\n",
       "  </tbody>\n",
       "</table>\n",
       "</div>"
      ],
      "text/plain": [
       "   LungCap(cc)  Age( years)  Height(inches) Smoke  Gender Caesarean\n",
       "0        6.475            6            62.1    no    male        no\n",
       "1       10.125           18            74.7   yes  female        no\n",
       "2        9.550           16            69.7    no  female       yes\n",
       "3       11.125           14            71.0    no    male        no\n",
       "4        4.800            5            56.9    no    male        no"
      ]
     },
     "execution_count": 6,
     "metadata": {},
     "output_type": "execute_result"
    }
   ],
   "source": [
    "# lets check the effect of independant variables on dependant variable\n",
    "# here lung capacity is dependant variable and all other variables are the independant variables\n",
    "# lets use linear regression to analyse the effect of features on target variable\n",
    "\n",
    "data.head()"
   ]
  },
  {
   "cell_type": "code",
   "execution_count": 7,
   "metadata": {
    "execution": {
     "iopub.execute_input": "2022-09-24T14:02:30.895929Z",
     "iopub.status.busy": "2022-09-24T14:02:30.895548Z",
     "iopub.status.idle": "2022-09-24T14:02:30.923021Z",
     "shell.execute_reply": "2022-09-24T14:02:30.921916Z",
     "shell.execute_reply.started": "2022-09-24T14:02:30.895898Z"
    }
   },
   "outputs": [
    {
     "name": "stdout",
     "output_type": "stream",
     "text": [
      "<class 'pandas.core.frame.DataFrame'>\n",
      "RangeIndex: 725 entries, 0 to 724\n",
      "Data columns (total 6 columns):\n",
      " #   Column          Non-Null Count  Dtype  \n",
      "---  ------          --------------  -----  \n",
      " 0   LungCap(cc)     725 non-null    float64\n",
      " 1   Age( years)     725 non-null    int64  \n",
      " 2   Height(inches)  725 non-null    float64\n",
      " 3   Smoke           725 non-null    object \n",
      " 4   Gender          725 non-null    object \n",
      " 5   Caesarean       725 non-null    object \n",
      "dtypes: float64(2), int64(1), object(3)\n",
      "memory usage: 34.1+ KB\n"
     ]
    }
   ],
   "source": [
    "data.info()"
   ]
  },
  {
   "cell_type": "code",
   "execution_count": 10,
   "metadata": {
    "execution": {
     "iopub.execute_input": "2022-09-24T14:05:11.212178Z",
     "iopub.status.busy": "2022-09-24T14:05:11.211059Z",
     "iopub.status.idle": "2022-09-24T14:05:11.221127Z",
     "shell.execute_reply": "2022-09-24T14:05:11.219990Z",
     "shell.execute_reply.started": "2022-09-24T14:05:11.212137Z"
    }
   },
   "outputs": [
    {
     "data": {
      "text/plain": [
       "LungCap(cc)       0\n",
       "Age( years)       0\n",
       "Height(inches)    0\n",
       "Smoke             0\n",
       "Gender            0\n",
       "Caesarean         0\n",
       "dtype: int64"
      ]
     },
     "execution_count": 10,
     "metadata": {},
     "output_type": "execute_result"
    }
   ],
   "source": [
    "# checking for the null values\n",
    "\n",
    "data.isna().sum()"
   ]
  },
  {
   "cell_type": "code",
   "execution_count": 17,
   "metadata": {
    "execution": {
     "iopub.execute_input": "2022-09-24T14:13:29.191043Z",
     "iopub.status.busy": "2022-09-24T14:13:29.190653Z",
     "iopub.status.idle": "2022-09-24T14:13:29.199594Z",
     "shell.execute_reply": "2022-09-24T14:13:29.198382Z",
     "shell.execute_reply.started": "2022-09-24T14:13:29.191011Z"
    }
   },
   "outputs": [],
   "source": [
    "#changing the names of columns and rearranging the columns at convenient order\n",
    "\n",
    "data[['LungCap','Age','Height']] = data[['LungCap(cc)','Age( years)','Height(inches)']]\n",
    "data.drop(['LungCap(cc)','Age( years)','Height(inches)'], axis=1, inplace=True)\n",
    "cols = data.columns.to_list()\n",
    "cols = cols[3:] + cols[0:3]\n",
    "data = data[cols]\n",
    "data.head()"
   ]
  },
  {
   "cell_type": "code",
   "execution_count": 54,
   "metadata": {
    "execution": {
     "iopub.execute_input": "2022-09-24T14:25:14.744814Z",
     "iopub.status.busy": "2022-09-24T14:25:14.744433Z",
     "iopub.status.idle": "2022-09-24T14:25:14.759135Z",
     "shell.execute_reply": "2022-09-24T14:25:14.757939Z",
     "shell.execute_reply.started": "2022-09-24T14:25:14.744784Z"
    }
   },
   "outputs": [
    {
     "data": {
      "text/html": [
       "<div>\n",
       "<style scoped>\n",
       "    .dataframe tbody tr th:only-of-type {\n",
       "        vertical-align: middle;\n",
       "    }\n",
       "\n",
       "    .dataframe tbody tr th {\n",
       "        vertical-align: top;\n",
       "    }\n",
       "\n",
       "    .dataframe thead th {\n",
       "        text-align: right;\n",
       "    }\n",
       "</style>\n",
       "<table border=\"1\" class=\"dataframe\">\n",
       "  <thead>\n",
       "    <tr style=\"text-align: right;\">\n",
       "      <th></th>\n",
       "      <th>LungCap</th>\n",
       "      <th>Age</th>\n",
       "      <th>Height</th>\n",
       "      <th>Smoke</th>\n",
       "      <th>Gender</th>\n",
       "      <th>Caesarean</th>\n",
       "    </tr>\n",
       "  </thead>\n",
       "  <tbody>\n",
       "    <tr>\n",
       "      <th>0</th>\n",
       "      <td>6.475</td>\n",
       "      <td>6</td>\n",
       "      <td>62.1</td>\n",
       "      <td>no</td>\n",
       "      <td>male</td>\n",
       "      <td>no</td>\n",
       "    </tr>\n",
       "    <tr>\n",
       "      <th>1</th>\n",
       "      <td>10.125</td>\n",
       "      <td>18</td>\n",
       "      <td>74.7</td>\n",
       "      <td>yes</td>\n",
       "      <td>female</td>\n",
       "      <td>no</td>\n",
       "    </tr>\n",
       "    <tr>\n",
       "      <th>2</th>\n",
       "      <td>9.550</td>\n",
       "      <td>16</td>\n",
       "      <td>69.7</td>\n",
       "      <td>no</td>\n",
       "      <td>female</td>\n",
       "      <td>yes</td>\n",
       "    </tr>\n",
       "    <tr>\n",
       "      <th>3</th>\n",
       "      <td>11.125</td>\n",
       "      <td>14</td>\n",
       "      <td>71.0</td>\n",
       "      <td>no</td>\n",
       "      <td>male</td>\n",
       "      <td>no</td>\n",
       "    </tr>\n",
       "    <tr>\n",
       "      <th>4</th>\n",
       "      <td>4.800</td>\n",
       "      <td>5</td>\n",
       "      <td>56.9</td>\n",
       "      <td>no</td>\n",
       "      <td>male</td>\n",
       "      <td>no</td>\n",
       "    </tr>\n",
       "  </tbody>\n",
       "</table>\n",
       "</div>"
      ],
      "text/plain": [
       "   LungCap  Age  Height Smoke  Gender Caesarean\n",
       "0    6.475    6    62.1    no    male        no\n",
       "1   10.125   18    74.7   yes  female        no\n",
       "2    9.550   16    69.7    no  female       yes\n",
       "3   11.125   14    71.0    no    male        no\n",
       "4    4.800    5    56.9    no    male        no"
      ]
     },
     "execution_count": 54,
     "metadata": {},
     "output_type": "execute_result"
    }
   ],
   "source": [
    "data.head()"
   ]
  },
  {
   "cell_type": "markdown",
   "metadata": {},
   "source": [
    "# "
   ]
  },
  {
   "cell_type": "code",
   "execution_count": 80,
   "metadata": {
    "execution": {
     "iopub.execute_input": "2022-09-24T14:51:39.647731Z",
     "iopub.status.busy": "2022-09-24T14:51:39.647333Z",
     "iopub.status.idle": "2022-09-24T14:51:39.662244Z",
     "shell.execute_reply": "2022-09-24T14:51:39.660886Z",
     "shell.execute_reply.started": "2022-09-24T14:51:39.647699Z"
    }
   },
   "outputs": [],
   "source": [
    "# lets look for the categorical variables and convert them into numerical values\n",
    "\n",
    "data=pd.get_dummies(data, drop_first = True)"
   ]
  },
  {
   "cell_type": "code",
   "execution_count": 81,
   "metadata": {
    "execution": {
     "iopub.execute_input": "2022-09-24T14:51:42.002464Z",
     "iopub.status.busy": "2022-09-24T14:51:42.002068Z",
     "iopub.status.idle": "2022-09-24T14:51:42.012644Z",
     "shell.execute_reply": "2022-09-24T14:51:42.011394Z",
     "shell.execute_reply.started": "2022-09-24T14:51:42.002432Z"
    }
   },
   "outputs": [
    {
     "name": "stdout",
     "output_type": "stream",
     "text": [
      "size of data before: 725\n",
      "train data size: 580\n",
      "test data size: 145\n"
     ]
    }
   ],
   "source": [
    "from sklearn.model_selection import train_test_split\n",
    "data_train, data_test = train_test_split(data, train_size=0.8, random_state=0)\n",
    "print('size of data before: '+ str(data.shape[0]))\n",
    "print('train data size: '+ str(data_train.shape[0]))\n",
    "print('test data size: '+ str(data_test.shape[0]))"
   ]
  },
  {
   "cell_type": "code",
   "execution_count": 82,
   "metadata": {
    "execution": {
     "iopub.execute_input": "2022-09-24T14:51:44.998183Z",
     "iopub.status.busy": "2022-09-24T14:51:44.997777Z",
     "iopub.status.idle": "2022-09-24T14:51:45.006250Z",
     "shell.execute_reply": "2022-09-24T14:51:45.005131Z",
     "shell.execute_reply.started": "2022-09-24T14:51:44.998147Z"
    }
   },
   "outputs": [],
   "source": [
    "data_train_x = data_train.iloc[:,1:]\n",
    "data_train_y = data_train.iloc[:,0]\n",
    "data_test_x = data_test.iloc[:,1:]\n",
    "data_test_y = data_test.iloc[:,0]"
   ]
  },
  {
   "cell_type": "code",
   "execution_count": 84,
   "metadata": {
    "execution": {
     "iopub.execute_input": "2022-09-24T14:52:00.612425Z",
     "iopub.status.busy": "2022-09-24T14:52:00.611987Z",
     "iopub.status.idle": "2022-09-24T14:52:00.637057Z",
     "shell.execute_reply": "2022-09-24T14:52:00.635894Z",
     "shell.execute_reply.started": "2022-09-24T14:52:00.612390Z"
    }
   },
   "outputs": [
    {
     "data": {
      "text/plain": [
       "LinearRegression()"
      ]
     },
     "execution_count": 84,
     "metadata": {},
     "output_type": "execute_result"
    }
   ],
   "source": [
    "# building model using sklearn's linearregression\n",
    "\n",
    "from sklearn.linear_model import LinearRegression  # importing the class\n",
    "linreg = LinearRegression() # initiating the instance\n",
    "linreg.fit(data_train_x, data_train_y) # building the model\n",
    " "
   ]
  },
  {
   "cell_type": "code",
   "execution_count": 87,
   "metadata": {
    "execution": {
     "iopub.execute_input": "2022-09-24T15:08:53.034551Z",
     "iopub.status.busy": "2022-09-24T15:08:53.034164Z",
     "iopub.status.idle": "2022-09-24T15:08:53.060491Z",
     "shell.execute_reply": "2022-09-24T15:08:53.059684Z",
     "shell.execute_reply.started": "2022-09-24T15:08:53.034519Z"
    }
   },
   "outputs": [
    {
     "data": {
      "text/html": [
       "<table class=\"simpletable\">\n",
       "<caption>OLS Regression Results</caption>\n",
       "<tr>\n",
       "  <th>Dep. Variable:</th>         <td>LungCap</td>     <th>  R-squared:         </th> <td>   0.855</td> \n",
       "</tr>\n",
       "<tr>\n",
       "  <th>Model:</th>                   <td>OLS</td>       <th>  Adj. R-squared:    </th> <td>   0.854</td> \n",
       "</tr>\n",
       "<tr>\n",
       "  <th>Method:</th>             <td>Least Squares</td>  <th>  F-statistic:       </th> <td>   678.4</td> \n",
       "</tr>\n",
       "<tr>\n",
       "  <th>Date:</th>             <td>Sat, 24 Sep 2022</td> <th>  Prob (F-statistic):</th> <td>3.45e-238</td>\n",
       "</tr>\n",
       "<tr>\n",
       "  <th>Time:</th>                 <td>15:08:53</td>     <th>  Log-Likelihood:    </th> <td> -829.45</td> \n",
       "</tr>\n",
       "<tr>\n",
       "  <th>No. Observations:</th>      <td>   580</td>      <th>  AIC:               </th> <td>   1671.</td> \n",
       "</tr>\n",
       "<tr>\n",
       "  <th>Df Residuals:</th>          <td>   574</td>      <th>  BIC:               </th> <td>   1697.</td> \n",
       "</tr>\n",
       "<tr>\n",
       "  <th>Df Model:</th>              <td>     5</td>      <th>                     </th>     <td> </td>    \n",
       "</tr>\n",
       "<tr>\n",
       "  <th>Covariance Type:</th>      <td>nonrobust</td>    <th>                     </th>     <td> </td>    \n",
       "</tr>\n",
       "</table>\n",
       "<table class=\"simpletable\">\n",
       "<tr>\n",
       "        <td></td>           <th>coef</th>     <th>std err</th>      <th>t</th>      <th>P>|t|</th>  <th>[0.025</th>    <th>0.975]</th>  \n",
       "</tr>\n",
       "<tr>\n",
       "  <th>const</th>         <td>  -10.5975</td> <td>    0.525</td> <td>  -20.183</td> <td> 0.000</td> <td>  -11.629</td> <td>   -9.566</td>\n",
       "</tr>\n",
       "<tr>\n",
       "  <th>Age</th>           <td>    0.1974</td> <td>    0.020</td> <td>    9.794</td> <td> 0.000</td> <td>    0.158</td> <td>    0.237</td>\n",
       "</tr>\n",
       "<tr>\n",
       "  <th>Height</th>        <td>    0.2452</td> <td>    0.011</td> <td>   21.847</td> <td> 0.000</td> <td>    0.223</td> <td>    0.267</td>\n",
       "</tr>\n",
       "<tr>\n",
       "  <th>Smoke_yes</th>     <td>   -0.5529</td> <td>    0.147</td> <td>   -3.755</td> <td> 0.000</td> <td>   -0.842</td> <td>   -0.264</td>\n",
       "</tr>\n",
       "<tr>\n",
       "  <th>Gender_male</th>   <td>    0.4197</td> <td>    0.089</td> <td>    4.735</td> <td> 0.000</td> <td>    0.246</td> <td>    0.594</td>\n",
       "</tr>\n",
       "<tr>\n",
       "  <th>Caesarean_yes</th> <td>   -0.1541</td> <td>    0.101</td> <td>   -1.526</td> <td> 0.127</td> <td>   -0.352</td> <td>    0.044</td>\n",
       "</tr>\n",
       "</table>\n",
       "<table class=\"simpletable\">\n",
       "<tr>\n",
       "  <th>Omnibus:</th>       <td> 0.859</td> <th>  Durbin-Watson:     </th> <td>   1.994</td>\n",
       "</tr>\n",
       "<tr>\n",
       "  <th>Prob(Omnibus):</th> <td> 0.651</td> <th>  Jarque-Bera (JB):  </th> <td>   0.940</td>\n",
       "</tr>\n",
       "<tr>\n",
       "  <th>Skew:</th>          <td>-0.046</td> <th>  Prob(JB):          </th> <td>   0.625</td>\n",
       "</tr>\n",
       "<tr>\n",
       "  <th>Kurtosis:</th>      <td> 2.825</td> <th>  Cond. No.          </th> <td>    828.</td>\n",
       "</tr>\n",
       "</table><br/><br/>Notes:<br/>[1] Standard Errors assume that the covariance matrix of the errors is correctly specified."
      ],
      "text/plain": [
       "<class 'statsmodels.iolib.summary.Summary'>\n",
       "\"\"\"\n",
       "                            OLS Regression Results                            \n",
       "==============================================================================\n",
       "Dep. Variable:                LungCap   R-squared:                       0.855\n",
       "Model:                            OLS   Adj. R-squared:                  0.854\n",
       "Method:                 Least Squares   F-statistic:                     678.4\n",
       "Date:                Sat, 24 Sep 2022   Prob (F-statistic):          3.45e-238\n",
       "Time:                        15:08:53   Log-Likelihood:                -829.45\n",
       "No. Observations:                 580   AIC:                             1671.\n",
       "Df Residuals:                     574   BIC:                             1697.\n",
       "Df Model:                           5                                         \n",
       "Covariance Type:            nonrobust                                         \n",
       "=================================================================================\n",
       "                    coef    std err          t      P>|t|      [0.025      0.975]\n",
       "---------------------------------------------------------------------------------\n",
       "const           -10.5975      0.525    -20.183      0.000     -11.629      -9.566\n",
       "Age               0.1974      0.020      9.794      0.000       0.158       0.237\n",
       "Height            0.2452      0.011     21.847      0.000       0.223       0.267\n",
       "Smoke_yes        -0.5529      0.147     -3.755      0.000      -0.842      -0.264\n",
       "Gender_male       0.4197      0.089      4.735      0.000       0.246       0.594\n",
       "Caesarean_yes    -0.1541      0.101     -1.526      0.127      -0.352       0.044\n",
       "==============================================================================\n",
       "Omnibus:                        0.859   Durbin-Watson:                   1.994\n",
       "Prob(Omnibus):                  0.651   Jarque-Bera (JB):                0.940\n",
       "Skew:                          -0.046   Prob(JB):                        0.625\n",
       "Kurtosis:                       2.825   Cond. No.                         828.\n",
       "==============================================================================\n",
       "\n",
       "Notes:\n",
       "[1] Standard Errors assume that the covariance matrix of the errors is correctly specified.\n",
       "\"\"\""
      ]
     },
     "execution_count": 87,
     "metadata": {},
     "output_type": "execute_result"
    }
   ],
   "source": [
    "# building model using statsmodel\n",
    "\n",
    "import statsmodels.api as sm\n",
    "data_train_x0 = sm.add_constant(data_train_x)\n",
    "linregg = sm.OLS(data_train_y, data_train_x0).fit()\n",
    "linregg.summary()"
   ]
  },
  {
   "cell_type": "code",
   "execution_count": 114,
   "metadata": {
    "execution": {
     "iopub.execute_input": "2022-09-24T15:31:31.033564Z",
     "iopub.status.busy": "2022-09-24T15:31:31.033178Z",
     "iopub.status.idle": "2022-09-24T15:31:31.044642Z",
     "shell.execute_reply": "2022-09-24T15:31:31.043543Z",
     "shell.execute_reply.started": "2022-09-24T15:31:31.033532Z"
    }
   },
   "outputs": [
    {
     "name": "stdout",
     "output_type": "stream",
     "text": [
      "size of data before: 725\n",
      "train data size: 580\n",
      "test data size: 145\n"
     ]
    }
   ],
   "source": [
    "# since the effect of Caesarean_yes column is not statistically significant on the target variable\n",
    "# as p value is greater than significance level, so we can eliminate this variable to mitigate the\n",
    "# overfitting scenario\n",
    "\n",
    "#data.drop('Caesarean_yes', axis=1, inplace=True)\n",
    "\n",
    "\n",
    "\n",
    "data_train, data_test = train_test_split(data, train_size=0.8, random_state=0)\n",
    "print('size of data before: '+ str(data.shape[0]))\n",
    "print('train data size: '+ str(data_train.shape[0]))\n",
    "print('test data size: '+ str(data_test.shape[0]))\n",
    "data_train_x = data_train.iloc[:,1:]\n",
    "data_train_y = data_train.iloc[:,0]\n",
    "data_test_x = data_test.iloc[:,1:]\n",
    "data_test_y = data_test.iloc[:,0]\n"
   ]
  },
  {
   "cell_type": "code",
   "execution_count": 115,
   "metadata": {
    "execution": {
     "iopub.execute_input": "2022-09-24T15:31:32.521370Z",
     "iopub.status.busy": "2022-09-24T15:31:32.520973Z",
     "iopub.status.idle": "2022-09-24T15:31:32.545424Z",
     "shell.execute_reply": "2022-09-24T15:31:32.544306Z",
     "shell.execute_reply.started": "2022-09-24T15:31:32.521339Z"
    }
   },
   "outputs": [
    {
     "data": {
      "text/html": [
       "<table class=\"simpletable\">\n",
       "<caption>OLS Regression Results</caption>\n",
       "<tr>\n",
       "  <th>Dep. Variable:</th>         <td>LungCap</td>     <th>  R-squared:         </th> <td>   0.855</td> \n",
       "</tr>\n",
       "<tr>\n",
       "  <th>Model:</th>                   <td>OLS</td>       <th>  Adj. R-squared:    </th> <td>   0.854</td> \n",
       "</tr>\n",
       "<tr>\n",
       "  <th>Method:</th>             <td>Least Squares</td>  <th>  F-statistic:       </th> <td>   845.5</td> \n",
       "</tr>\n",
       "<tr>\n",
       "  <th>Date:</th>             <td>Sat, 24 Sep 2022</td> <th>  Prob (F-statistic):</th> <td>3.56e-239</td>\n",
       "</tr>\n",
       "<tr>\n",
       "  <th>Time:</th>                 <td>15:31:32</td>     <th>  Log-Likelihood:    </th> <td> -830.62</td> \n",
       "</tr>\n",
       "<tr>\n",
       "  <th>No. Observations:</th>      <td>   580</td>      <th>  AIC:               </th> <td>   1671.</td> \n",
       "</tr>\n",
       "<tr>\n",
       "  <th>Df Residuals:</th>          <td>   575</td>      <th>  BIC:               </th> <td>   1693.</td> \n",
       "</tr>\n",
       "<tr>\n",
       "  <th>Df Model:</th>              <td>     4</td>      <th>                     </th>     <td> </td>    \n",
       "</tr>\n",
       "<tr>\n",
       "  <th>Covariance Type:</th>      <td>nonrobust</td>    <th>                     </th>     <td> </td>    \n",
       "</tr>\n",
       "</table>\n",
       "<table class=\"simpletable\">\n",
       "<tr>\n",
       "       <td></td>          <th>coef</th>     <th>std err</th>      <th>t</th>      <th>P>|t|</th>  <th>[0.025</th>    <th>0.975]</th>  \n",
       "</tr>\n",
       "<tr>\n",
       "  <th>const</th>       <td>  -10.5902</td> <td>    0.526</td> <td>  -20.147</td> <td> 0.000</td> <td>  -11.623</td> <td>   -9.558</td>\n",
       "</tr>\n",
       "<tr>\n",
       "  <th>Age</th>         <td>    0.1982</td> <td>    0.020</td> <td>    9.823</td> <td> 0.000</td> <td>    0.159</td> <td>    0.238</td>\n",
       "</tr>\n",
       "<tr>\n",
       "  <th>Height</th>      <td>    0.2445</td> <td>    0.011</td> <td>   21.776</td> <td> 0.000</td> <td>    0.222</td> <td>    0.267</td>\n",
       "</tr>\n",
       "<tr>\n",
       "  <th>Smoke_yes</th>   <td>   -0.5705</td> <td>    0.147</td> <td>   -3.881</td> <td> 0.000</td> <td>   -0.859</td> <td>   -0.282</td>\n",
       "</tr>\n",
       "<tr>\n",
       "  <th>Gender_male</th> <td>    0.4166</td> <td>    0.089</td> <td>    4.696</td> <td> 0.000</td> <td>    0.242</td> <td>    0.591</td>\n",
       "</tr>\n",
       "</table>\n",
       "<table class=\"simpletable\">\n",
       "<tr>\n",
       "  <th>Omnibus:</th>       <td> 0.569</td> <th>  Durbin-Watson:     </th> <td>   1.994</td>\n",
       "</tr>\n",
       "<tr>\n",
       "  <th>Prob(Omnibus):</th> <td> 0.752</td> <th>  Jarque-Bera (JB):  </th> <td>   0.674</td>\n",
       "</tr>\n",
       "<tr>\n",
       "  <th>Skew:</th>          <td>-0.040</td> <th>  Prob(JB):          </th> <td>   0.714</td>\n",
       "</tr>\n",
       "<tr>\n",
       "  <th>Kurtosis:</th>      <td> 2.853</td> <th>  Cond. No.          </th> <td>    828.</td>\n",
       "</tr>\n",
       "</table><br/><br/>Notes:<br/>[1] Standard Errors assume that the covariance matrix of the errors is correctly specified."
      ],
      "text/plain": [
       "<class 'statsmodels.iolib.summary.Summary'>\n",
       "\"\"\"\n",
       "                            OLS Regression Results                            \n",
       "==============================================================================\n",
       "Dep. Variable:                LungCap   R-squared:                       0.855\n",
       "Model:                            OLS   Adj. R-squared:                  0.854\n",
       "Method:                 Least Squares   F-statistic:                     845.5\n",
       "Date:                Sat, 24 Sep 2022   Prob (F-statistic):          3.56e-239\n",
       "Time:                        15:31:32   Log-Likelihood:                -830.62\n",
       "No. Observations:                 580   AIC:                             1671.\n",
       "Df Residuals:                     575   BIC:                             1693.\n",
       "Df Model:                           4                                         \n",
       "Covariance Type:            nonrobust                                         \n",
       "===============================================================================\n",
       "                  coef    std err          t      P>|t|      [0.025      0.975]\n",
       "-------------------------------------------------------------------------------\n",
       "const         -10.5902      0.526    -20.147      0.000     -11.623      -9.558\n",
       "Age             0.1982      0.020      9.823      0.000       0.159       0.238\n",
       "Height          0.2445      0.011     21.776      0.000       0.222       0.267\n",
       "Smoke_yes      -0.5705      0.147     -3.881      0.000      -0.859      -0.282\n",
       "Gender_male     0.4166      0.089      4.696      0.000       0.242       0.591\n",
       "==============================================================================\n",
       "Omnibus:                        0.569   Durbin-Watson:                   1.994\n",
       "Prob(Omnibus):                  0.752   Jarque-Bera (JB):                0.674\n",
       "Skew:                          -0.040   Prob(JB):                        0.714\n",
       "Kurtosis:                       2.853   Cond. No.                         828.\n",
       "==============================================================================\n",
       "\n",
       "Notes:\n",
       "[1] Standard Errors assume that the covariance matrix of the errors is correctly specified.\n",
       "\"\"\""
      ]
     },
     "execution_count": 115,
     "metadata": {},
     "output_type": "execute_result"
    }
   ],
   "source": [
    "data_train_x0 = sm.add_constant(data_train_x)\n",
    "linregg = sm.OLS(data_train_y, data_train_x0).fit()\n",
    "linregg.summary()"
   ]
  },
  {
   "cell_type": "code",
   "execution_count": 116,
   "metadata": {
    "execution": {
     "iopub.execute_input": "2022-09-24T15:31:32.959873Z",
     "iopub.status.busy": "2022-09-24T15:31:32.958968Z",
     "iopub.status.idle": "2022-09-24T15:31:32.970991Z",
     "shell.execute_reply": "2022-09-24T15:31:32.969760Z",
     "shell.execute_reply.started": "2022-09-24T15:31:32.959835Z"
    }
   },
   "outputs": [
    {
     "data": {
      "text/plain": [
       "LinearRegression()"
      ]
     },
     "execution_count": 116,
     "metadata": {},
     "output_type": "execute_result"
    }
   ],
   "source": [
    "from sklearn.linear_model import LinearRegression  # importing the class\n",
    "linreg = LinearRegression() # initiating the instance\n",
    "linreg.fit(data_train_x, data_train_y) # building the model"
   ]
  },
  {
   "cell_type": "code",
   "execution_count": 117,
   "metadata": {
    "execution": {
     "iopub.execute_input": "2022-09-24T15:31:33.484576Z",
     "iopub.status.busy": "2022-09-24T15:31:33.483665Z",
     "iopub.status.idle": "2022-09-24T15:31:33.494336Z",
     "shell.execute_reply": "2022-09-24T15:31:33.492888Z",
     "shell.execute_reply.started": "2022-09-24T15:31:33.484532Z"
    }
   },
   "outputs": [],
   "source": [
    "prdct_train = linreg.predict(data_train_x)\n",
    "prdct_test = linreg.predict(data_test_x)"
   ]
  },
  {
   "cell_type": "code",
   "execution_count": 118,
   "metadata": {
    "execution": {
     "iopub.execute_input": "2022-09-24T15:31:33.854648Z",
     "iopub.status.busy": "2022-09-24T15:31:33.854204Z",
     "iopub.status.idle": "2022-09-24T15:31:33.860287Z",
     "shell.execute_reply": "2022-09-24T15:31:33.858945Z",
     "shell.execute_reply.started": "2022-09-24T15:31:33.854612Z"
    }
   },
   "outputs": [],
   "source": [
    "error_train = data_train_y - prdct_train\n",
    "error_test = data_test_y - prdct_test"
   ]
  },
  {
   "cell_type": "code",
   "execution_count": 119,
   "metadata": {
    "execution": {
     "iopub.execute_input": "2022-09-24T15:31:34.365243Z",
     "iopub.status.busy": "2022-09-24T15:31:34.364816Z",
     "iopub.status.idle": "2022-09-24T15:31:34.531017Z",
     "shell.execute_reply": "2022-09-24T15:31:34.529865Z",
     "shell.execute_reply.started": "2022-09-24T15:31:34.365207Z"
    }
   },
   "outputs": [
    {
     "data": {
      "text/plain": [
       "[<matplotlib.lines.Line2D at 0x7fc508657b50>]"
      ]
     },
     "execution_count": 119,
     "metadata": {},
     "output_type": "execute_result"
    },
    {
     "data": {
      "image/png": "[encoded data removed]",
      "text/plain": [
       "<Figure size 432x288 with 1 Axes>"
      ]
     },
     "metadata": {
      "needs_background": "light"
     },
     "output_type": "display_data"
    }
   ],
   "source": [
    "plt.plot(error_train,'*')"
   ]
  },
  {
   "cell_type": "code",
   "execution_count": 120,
   "metadata": {
    "execution": {
     "iopub.execute_input": "2022-09-24T15:31:35.845339Z",
     "iopub.status.busy": "2022-09-24T15:31:35.844904Z",
     "iopub.status.idle": "2022-09-24T15:31:36.139035Z",
     "shell.execute_reply": "2022-09-24T15:31:36.137660Z",
     "shell.execute_reply.started": "2022-09-24T15:31:35.845304Z"
    }
   },
   "outputs": [
    {
     "data": {
      "text/plain": [
       "<seaborn.axisgrid.FacetGrid at 0x7fc508522410>"
      ]
     },
     "execution_count": 120,
     "metadata": {},
     "output_type": "execute_result"
    },
    {
     "data": {
      "image/png": "[encoded data removed]",
      "text/plain": [
       "<Figure size 360x360 with 1 Axes>"
      ]
     },
     "metadata": {
      "needs_background": "light"
     },
     "output_type": "display_data"
    }
   ],
   "source": [
    "sns.displot(error_train)"
   ]
  },
  {
   "cell_type": "code",
   "execution_count": null,
   "metadata": {},
   "outputs": [],
   "source": []
  }
 ],
 "metadata": {
  "kernelspec": {
   "display_name": "Python 3 (ipykernel)",
   "language": "python",
   "name": "python3"
  },
  "language_info": {
   "codemirror_mode": {
    "name": "ipython",
    "version": 3
   },
   "file_extension": ".py",
   "mimetype": "text/x-python",
   "name": "python",
   "nbconvert_exporter": "python",
   "pygments_lexer": "ipython3",
   "version": "3.9.7"
  }
 },
 "nbformat": 4,
 "nbformat_minor": 4
}
